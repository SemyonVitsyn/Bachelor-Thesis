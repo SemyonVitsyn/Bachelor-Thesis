{
 "cells": [
  {
   "cell_type": "code",
   "execution_count": 21,
   "id": "ac77742a",
   "metadata": {},
   "outputs": [
    {
     "name": "stdout",
     "output_type": "stream",
     "text": [
      "0.18234260382437195\n",
      "0.06765815912272571\n",
      "0.16428423700499328\n"
     ]
    }
   ],
   "source": [
    "import os\n",
    "from rouge import Rouge\n",
    "import pymorphy2\n",
    "import json\n",
    "\n",
    "\n",
    "with open(f\"generation/qwen-1.5b-ru.json\", \"r\") as f:\n",
    "    data = json.load(f)\n",
    "\n",
    "# Создаем объект для расчета метрик ROUGE\n",
    "rouge = Rouge()\n",
    "\n",
    "# Создаем объект для стемматизации\n",
    "morph = pymorphy2.MorphAnalyzer()\n",
    "\n",
    "\n",
    "# Функция для стемматизации текста\n",
    "def stem_text(text):\n",
    "    words = text.split()\n",
    "    stemmed_words = [morph.parse(word)[0].normal_form for word in words]\n",
    "    return ' '.join(stemmed_words)\n",
    "\n",
    "\n",
    "\n",
    "gen = []\n",
    "ref = []\n",
    "\n",
    "# Проходим по каждому общему файлу и вычисляем метрики\n",
    "for item in data:\n",
    "    gen.append(stem_text(item['model_answer']))\n",
    "    ref.append(stem_text(item['table_data']['Ответ']))\n",
    "    \n",
    "\n",
    "# Вычисляем метрики ROUGE\n",
    "scores = rouge.get_scores(gen, ref, avg=True)\n",
    "print(scores['rouge-1']['f'])\n",
    "print(scores['rouge-2']['f'])\n",
    "print(scores['rouge-l']['f'])"
   ]
  }
 ],
 "metadata": {
  "kernelspec": {
   "display_name": "Python 3",
   "language": "python",
   "name": "python3"
  },
  "language_info": {
   "codemirror_mode": {
    "name": "ipython",
    "version": 3
   },
   "file_extension": ".py",
   "mimetype": "text/x-python",
   "name": "python",
   "nbconvert_exporter": "python",
   "pygments_lexer": "ipython3",
   "version": "3.10.12"
  }
 },
 "nbformat": 4,
 "nbformat_minor": 5
}
