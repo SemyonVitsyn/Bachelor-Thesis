{
 "cells": [
  {
   "cell_type": "markdown",
   "id": "7e4b995b",
   "metadata": {},
   "source": [
    "# qwen-1.5b-baseline"
   ]
  },
  {
   "cell_type": "code",
   "execution_count": 1,
   "id": "f0dbbec2",
   "metadata": {},
   "outputs": [],
   "source": [
    "results_dict = []"
   ]
  },
  {
   "cell_type": "code",
   "execution_count": 2,
   "id": "7039316d",
   "metadata": {},
   "outputs": [
    {
     "name": "stdout",
     "output_type": "stream",
     "text": [
      "qwen-1.5b-baseline rouge-1: f=0.2468, p=0.2052, r=0.3850\n",
      "qwen-1.5b-baseline rouge-2: f=0.1114, p=0.0914, r=0.1893\n",
      "qwen-1.5b-baseline rouge-l: f=0.2264, p=0.1881, r=0.3547\n"
     ]
    }
   ],
   "source": [
    "import os\n",
    "from rouge import Rouge\n",
    "import pymorphy2\n",
    "import json\n",
    "\n",
    "MODEL = \"qwen-1.5b-baseline\"\n",
    "\n",
    "with open(f\"generation/qwen-1.5b-baseline.json\", \"r\") as f:\n",
    "    data = json.load(f)\n",
    "\n",
    "rouge = Rouge()\n",
    "morph = pymorphy2.MorphAnalyzer()\n",
    "\n",
    "\n",
    "def stem_text(text):\n",
    "    words = text.split()\n",
    "    stemmed_words = [morph.parse(word)[0].normal_form for word in words]\n",
    "    return ' '.join(stemmed_words)\n",
    "\n",
    "\n",
    "\n",
    "gen = []\n",
    "ref = []\n",
    "\n",
    "for item in data:\n",
    "    gen.append(stem_text(item['model_answer']))\n",
    "    ref.append(stem_text(item['table_data']['Ответ']))\n",
    "    \n",
    "\n",
    "scores = rouge.get_scores(gen, ref, avg=True)\n",
    "\n",
    "results_dict.append({\n",
    "    f\"{MODEL} rouge-1 f\": scores[\"rouge-1\"][\"f\"],\n",
    "    f\"{MODEL} rouge-1 p\": scores[\"rouge-1\"][\"p\"],\n",
    "    f\"{MODEL} rouge-1 r\": scores[\"rouge-1\"][\"r\"],\n",
    "    f\"{MODEL} rouge-2 f\": scores[\"rouge-2\"][\"f\"],\n",
    "    f\"{MODEL} rouge-2 p\": scores[\"rouge-2\"][\"p\"],\n",
    "    f\"{MODEL} rouge-2 r\": scores[\"rouge-2\"][\"r\"],\n",
    "    f\"{MODEL} rouge-l f\": scores[\"rouge-l\"][\"f\"],\n",
    "    f\"{MODEL} rouge-l p\": scores[\"rouge-l\"][\"p\"],\n",
    "    f\"{MODEL} rouge-l r\": scores[\"rouge-l\"][\"r\"],\n",
    "})\n",
    "\n",
    "print(f\"{MODEL} rouge-1: f={scores['rouge-1']['f']:.4f}, p={scores['rouge-1']['p']:.4f}, r={scores['rouge-1']['r']:.4f}\")\n",
    "print(f\"{MODEL} rouge-2: f={scores['rouge-2']['f']:.4f}, p={scores['rouge-2']['p']:.4f}, r={scores['rouge-2']['r']:.4f}\")\n",
    "print(f\"{MODEL} rouge-l: f={scores['rouge-l']['f']:.4f}, p={scores['rouge-l']['p']:.4f}, r={scores['rouge-l']['r']:.4f}\")"
   ]
  },
  {
   "cell_type": "code",
   "execution_count": 3,
   "id": "8cc51b2f",
   "metadata": {},
   "outputs": [
    {
     "data": {
      "text/plain": [
       "674"
      ]
     },
     "execution_count": 3,
     "metadata": {},
     "output_type": "execute_result"
    }
   ],
   "source": [
    "len(data)"
   ]
  },
  {
   "cell_type": "markdown",
   "id": "028b3462",
   "metadata": {},
   "source": [
    "# qwen-1.5b-raw"
   ]
  },
  {
   "cell_type": "code",
   "execution_count": 4,
   "id": "528bcc99",
   "metadata": {},
   "outputs": [
    {
     "name": "stdout",
     "output_type": "stream",
     "text": [
      "qwen-1.5b-raw rouge-1: f=0.2245, p=0.1962, r=0.3656\n",
      "qwen-1.5b-raw rouge-2: f=0.1039, p=0.0894, r=0.1747\n",
      "qwen-1.5b-raw rouge-l: f=0.2068, p=0.1802, r=0.3414\n"
     ]
    }
   ],
   "source": [
    "import os\n",
    "from rouge import Rouge\n",
    "import pymorphy2\n",
    "import json\n",
    "\n",
    "MODEL = \"qwen-1.5b-raw\"\n",
    "\n",
    "with open(f\"generation/{MODEL}.json\", \"r\") as f:\n",
    "    data = json.load(f)\n",
    "\n",
    "rouge = Rouge()\n",
    "morph = pymorphy2.MorphAnalyzer()\n",
    "\n",
    "\n",
    "def stem_text(text):\n",
    "    words = text.split()\n",
    "    stemmed_words = [morph.parse(word)[0].normal_form for word in words]\n",
    "    return ' '.join(stemmed_words)\n",
    "\n",
    "\n",
    "\n",
    "gen = []\n",
    "ref = []\n",
    "\n",
    "for item in data:\n",
    "    gen.append(stem_text(item['model_answer']))\n",
    "    ref.append(stem_text(item['table_data']['Ответ']))\n",
    "    \n",
    "\n",
    "scores = rouge.get_scores(gen, ref, avg=True)\n",
    "\n",
    "results_dict.append({\n",
    "    f\"{MODEL} rouge-1 f\": scores[\"rouge-1\"][\"f\"],\n",
    "    f\"{MODEL} rouge-1 p\": scores[\"rouge-1\"][\"p\"],\n",
    "    f\"{MODEL} rouge-1 r\": scores[\"rouge-1\"][\"r\"],\n",
    "    f\"{MODEL} rouge-2 f\": scores[\"rouge-2\"][\"f\"],\n",
    "    f\"{MODEL} rouge-2 p\": scores[\"rouge-2\"][\"p\"],\n",
    "    f\"{MODEL} rouge-2 r\": scores[\"rouge-2\"][\"r\"],\n",
    "    f\"{MODEL} rouge-l f\": scores[\"rouge-l\"][\"f\"],\n",
    "    f\"{MODEL} rouge-l p\": scores[\"rouge-l\"][\"p\"],\n",
    "    f\"{MODEL} rouge-l r\": scores[\"rouge-l\"][\"r\"],\n",
    "})\n",
    "\n",
    "print(f\"{MODEL} rouge-1: f={scores['rouge-1']['f']:.4f}, p={scores['rouge-1']['p']:.4f}, r={scores['rouge-1']['r']:.4f}\")\n",
    "print(f\"{MODEL} rouge-2: f={scores['rouge-2']['f']:.4f}, p={scores['rouge-2']['p']:.4f}, r={scores['rouge-2']['r']:.4f}\")\n",
    "print(f\"{MODEL} rouge-l: f={scores['rouge-l']['f']:.4f}, p={scores['rouge-l']['p']:.4f}, r={scores['rouge-l']['r']:.4f}\")"
   ]
  },
  {
   "cell_type": "code",
   "execution_count": 5,
   "id": "afcb46b3",
   "metadata": {},
   "outputs": [
    {
     "data": {
      "text/plain": [
       "674"
      ]
     },
     "execution_count": 5,
     "metadata": {},
     "output_type": "execute_result"
    }
   ],
   "source": [
    "len(data)"
   ]
  },
  {
   "cell_type": "markdown",
   "id": "e41e86d0",
   "metadata": {},
   "source": [
    "# qwen-1.5b-ru"
   ]
  },
  {
   "cell_type": "code",
   "execution_count": 6,
   "id": "b3022363",
   "metadata": {},
   "outputs": [
    {
     "name": "stdout",
     "output_type": "stream",
     "text": [
      "qwen-1.5b-ru rouge-1: f=0.1823, p=0.1687, r=0.3051\n",
      "qwen-1.5b-ru rouge-2: f=0.0677, p=0.0559, r=0.1308\n",
      "qwen-1.5b-ru rouge-l: f=0.1643, p=0.1508, r=0.2810\n"
     ]
    }
   ],
   "source": [
    "import os\n",
    "from rouge import Rouge\n",
    "import pymorphy2\n",
    "import json\n",
    "\n",
    "MODEL = \"qwen-1.5b-ru\"\n",
    "\n",
    "with open(f\"generation/{MODEL}.json\", \"r\") as f:\n",
    "    data = json.load(f)\n",
    "\n",
    "rouge = Rouge()\n",
    "morph = pymorphy2.MorphAnalyzer()\n",
    "\n",
    "\n",
    "def stem_text(text):\n",
    "    words = text.split()\n",
    "    stemmed_words = [morph.parse(word)[0].normal_form for word in words]\n",
    "    return ' '.join(stemmed_words)\n",
    "\n",
    "\n",
    "\n",
    "gen = []\n",
    "ref = []\n",
    "\n",
    "for item in data:\n",
    "    gen.append(stem_text(item['model_answer']))\n",
    "    ref.append(stem_text(item['table_data']['Ответ']))\n",
    "    \n",
    "\n",
    "scores = rouge.get_scores(gen, ref, avg=True)\n",
    "\n",
    "results_dict.append({\n",
    "    f\"{MODEL} rouge-1 f\": scores[\"rouge-1\"][\"f\"],\n",
    "    f\"{MODEL} rouge-1 p\": scores[\"rouge-1\"][\"p\"],\n",
    "    f\"{MODEL} rouge-1 r\": scores[\"rouge-1\"][\"r\"],\n",
    "    f\"{MODEL} rouge-2 f\": scores[\"rouge-2\"][\"f\"],\n",
    "    f\"{MODEL} rouge-2 p\": scores[\"rouge-2\"][\"p\"],\n",
    "    f\"{MODEL} rouge-2 r\": scores[\"rouge-2\"][\"r\"],\n",
    "    f\"{MODEL} rouge-l f\": scores[\"rouge-l\"][\"f\"],\n",
    "    f\"{MODEL} rouge-l p\": scores[\"rouge-l\"][\"p\"],\n",
    "    f\"{MODEL} rouge-l r\": scores[\"rouge-l\"][\"r\"],\n",
    "})\n",
    "\n",
    "print(f\"{MODEL} rouge-1: f={scores['rouge-1']['f']:.4f}, p={scores['rouge-1']['p']:.4f}, r={scores['rouge-1']['r']:.4f}\")\n",
    "print(f\"{MODEL} rouge-2: f={scores['rouge-2']['f']:.4f}, p={scores['rouge-2']['p']:.4f}, r={scores['rouge-2']['r']:.4f}\")\n",
    "print(f\"{MODEL} rouge-l: f={scores['rouge-l']['f']:.4f}, p={scores['rouge-l']['p']:.4f}, r={scores['rouge-l']['r']:.4f}\")"
   ]
  },
  {
   "cell_type": "code",
   "execution_count": 7,
   "id": "9560db0d",
   "metadata": {},
   "outputs": [
    {
     "data": {
      "text/plain": [
       "674"
      ]
     },
     "execution_count": 7,
     "metadata": {},
     "output_type": "execute_result"
    }
   ],
   "source": [
    "len(data)"
   ]
  },
  {
   "cell_type": "markdown",
   "id": "a18551a3",
   "metadata": {},
   "source": [
    "# qwen-1.5b-ret-robust"
   ]
  },
  {
   "cell_type": "code",
   "execution_count": 8,
   "id": "1e0ddfe3",
   "metadata": {},
   "outputs": [
    {
     "name": "stdout",
     "output_type": "stream",
     "text": [
      "qwen-1.5b-ret-robust rouge-1: f=0.2136, p=0.1654, r=0.3915\n",
      "qwen-1.5b-ret-robust rouge-2: f=0.0860, p=0.0649, r=0.1788\n",
      "qwen-1.5b-ret-robust rouge-l: f=0.1977, p=0.1530, r=0.3648\n"
     ]
    }
   ],
   "source": [
    "\n",
    "import os\n",
    "from rouge import Rouge\n",
    "import pymorphy2\n",
    "import json\n",
    "\n",
    "MODEL = \"qwen-1.5b-ret-robust\"\n",
    "\n",
    "with open(f\"generation/{MODEL}.json\", \"r\") as f:\n",
    "    data = json.load(f)\n",
    "\n",
    "rouge = Rouge()\n",
    "morph = pymorphy2.MorphAnalyzer()\n",
    "\n",
    "\n",
    "def stem_text(text):\n",
    "    words = text.split()\n",
    "    stemmed_words = [morph.parse(word)[0].normal_form for word in words]\n",
    "    return ' '.join(stemmed_words)\n",
    "\n",
    "\n",
    "\n",
    "gen = []\n",
    "ref = []\n",
    "\n",
    "for item in data:\n",
    "    gen.append(stem_text(item['model_answer']))\n",
    "    ref.append(stem_text(item['table_data']['Ответ']))\n",
    "    \n",
    "\n",
    "scores = rouge.get_scores(gen, ref, avg=True)\n",
    "\n",
    "results_dict.append({\n",
    "    f\"{MODEL} rouge-1 f\": scores[\"rouge-1\"][\"f\"],\n",
    "    f\"{MODEL} rouge-1 p\": scores[\"rouge-1\"][\"p\"],\n",
    "    f\"{MODEL} rouge-1 r\": scores[\"rouge-1\"][\"r\"],\n",
    "    f\"{MODEL} rouge-2 f\": scores[\"rouge-2\"][\"f\"],\n",
    "    f\"{MODEL} rouge-2 p\": scores[\"rouge-2\"][\"p\"],\n",
    "    f\"{MODEL} rouge-2 r\": scores[\"rouge-2\"][\"r\"],\n",
    "    f\"{MODEL} rouge-l f\": scores[\"rouge-l\"][\"f\"],\n",
    "    f\"{MODEL} rouge-l p\": scores[\"rouge-l\"][\"p\"],\n",
    "    f\"{MODEL} rouge-l r\": scores[\"rouge-l\"][\"r\"],\n",
    "})\n",
    "\n",
    "print(f\"{MODEL} rouge-1: f={scores['rouge-1']['f']:.4f}, p={scores['rouge-1']['p']:.4f}, r={scores['rouge-1']['r']:.4f}\")\n",
    "print(f\"{MODEL} rouge-2: f={scores['rouge-2']['f']:.4f}, p={scores['rouge-2']['p']:.4f}, r={scores['rouge-2']['r']:.4f}\")\n",
    "print(f\"{MODEL} rouge-l: f={scores['rouge-l']['f']:.4f}, p={scores['rouge-l']['p']:.4f}, r={scores['rouge-l']['r']:.4f}\")"
   ]
  },
  {
   "cell_type": "code",
   "execution_count": 9,
   "id": "a50df489",
   "metadata": {},
   "outputs": [
    {
     "data": {
      "text/plain": [
       "674"
      ]
     },
     "execution_count": 9,
     "metadata": {},
     "output_type": "execute_result"
    }
   ],
   "source": [
    "len(data)"
   ]
  },
  {
   "cell_type": "markdown",
   "id": "5529f747",
   "metadata": {},
   "source": [
    "# Llama_70B_default"
   ]
  },
  {
   "cell_type": "code",
   "execution_count": 10,
   "id": "ae75d0ba",
   "metadata": {},
   "outputs": [
    {
     "name": "stdout",
     "output_type": "stream",
     "text": [
      "Llama_70B_default rouge-1: f=0.4309, p=0.4731, r=0.4397\n",
      "Llama_70B_default rouge-2: f=0.2647, p=0.2944, r=0.2723\n",
      "Llama_70B_default rouge-l: f=0.4023, p=0.4420, r=0.4115\n"
     ]
    }
   ],
   "source": [
    "import os\n",
    "from rouge import Rouge\n",
    "import pymorphy2\n",
    "import json\n",
    "\n",
    "MODEL = \"Llama_70B_default\"\n",
    "\n",
    "with open(f\"generation/{MODEL}.json\", \"r\") as f:\n",
    "    data = json.load(f)\n",
    "\n",
    "rouge = Rouge()\n",
    "morph = pymorphy2.MorphAnalyzer()\n",
    "\n",
    "\n",
    "def stem_text(text):\n",
    "    words = text.split()\n",
    "    stemmed_words = [morph.parse(word)[0].normal_form for word in words]\n",
    "    return ' '.join(stemmed_words)\n",
    "\n",
    "\n",
    "\n",
    "gen = []\n",
    "ref = []\n",
    "\n",
    "for item in data:\n",
    "    gen.append(stem_text(item['model_answer']))\n",
    "    ref.append(stem_text(item['table_data']['Ответ']))\n",
    "    \n",
    "\n",
    "scores = rouge.get_scores(gen, ref, avg=True)\n",
    "\n",
    "results_dict.append({\n",
    "    f\"{MODEL} rouge-1 f\": scores[\"rouge-1\"][\"f\"],\n",
    "    f\"{MODEL} rouge-1 p\": scores[\"rouge-1\"][\"p\"],\n",
    "    f\"{MODEL} rouge-1 r\": scores[\"rouge-1\"][\"r\"],\n",
    "    f\"{MODEL} rouge-2 f\": scores[\"rouge-2\"][\"f\"],\n",
    "    f\"{MODEL} rouge-2 p\": scores[\"rouge-2\"][\"p\"],\n",
    "    f\"{MODEL} rouge-2 r\": scores[\"rouge-2\"][\"r\"],\n",
    "    f\"{MODEL} rouge-l f\": scores[\"rouge-l\"][\"f\"],\n",
    "    f\"{MODEL} rouge-l p\": scores[\"rouge-l\"][\"p\"],\n",
    "    f\"{MODEL} rouge-l r\": scores[\"rouge-l\"][\"r\"],\n",
    "})\n",
    "\n",
    "print(f\"{MODEL} rouge-1: f={scores['rouge-1']['f']:.4f}, p={scores['rouge-1']['p']:.4f}, r={scores['rouge-1']['r']:.4f}\")\n",
    "print(f\"{MODEL} rouge-2: f={scores['rouge-2']['f']:.4f}, p={scores['rouge-2']['p']:.4f}, r={scores['rouge-2']['r']:.4f}\")\n",
    "print(f\"{MODEL} rouge-l: f={scores['rouge-l']['f']:.4f}, p={scores['rouge-l']['p']:.4f}, r={scores['rouge-l']['r']:.4f}\")"
   ]
  },
  {
   "cell_type": "code",
   "execution_count": 11,
   "id": "146b58eb",
   "metadata": {},
   "outputs": [
    {
     "data": {
      "text/plain": [
       "674"
      ]
     },
     "execution_count": 11,
     "metadata": {},
     "output_type": "execute_result"
    }
   ],
   "source": [
    "len(data)"
   ]
  },
  {
   "cell_type": "markdown",
   "id": "e780db51",
   "metadata": {},
   "source": [
    "# Llama_70B_CoT"
   ]
  },
  {
   "cell_type": "code",
   "execution_count": 12,
   "id": "20fdcee1",
   "metadata": {},
   "outputs": [
    {
     "name": "stdout",
     "output_type": "stream",
     "text": [
      "Llama_70B_CoT rouge-1: f=0.3870, p=0.4142, r=0.4077\n",
      "Llama_70B_CoT rouge-2: f=0.2254, p=0.2314, r=0.2488\n",
      "Llama_70B_CoT rouge-l: f=0.3557, p=0.3813, r=0.3760\n"
     ]
    }
   ],
   "source": [
    "import os\n",
    "from rouge import Rouge\n",
    "import pymorphy2\n",
    "import json\n",
    "\n",
    "MODEL = \"Llama_70B_CoT\"\n",
    "\n",
    "with open(f\"generation/{MODEL}.json\", \"r\") as f:\n",
    "    data = json.load(f)\n",
    "\n",
    "rouge = Rouge()\n",
    "morph = pymorphy2.MorphAnalyzer()\n",
    "\n",
    "\n",
    "def stem_text(text):\n",
    "    words = text.split()\n",
    "    stemmed_words = [morph.parse(word)[0].normal_form for word in words]\n",
    "    return ' '.join(stemmed_words)\n",
    "\n",
    "\n",
    "\n",
    "gen = []\n",
    "ref = []\n",
    "\n",
    "for item in data:\n",
    "    if (item['model_answer'] == \"\"):\n",
    "        gen.append(stem_text(\"К сожалению, ответа на вопрос нет в упомянутых источниках\"))\n",
    "    else:\n",
    "        gen.append(stem_text(item['model_answer']))\n",
    "    ref.append(stem_text(item['table_data']['Ответ']))\n",
    "    \n",
    "\n",
    "scores = rouge.get_scores(gen, ref, avg=True)\n",
    "\n",
    "results_dict.append({\n",
    "    f\"{MODEL} rouge-1 f\": scores[\"rouge-1\"][\"f\"],\n",
    "    f\"{MODEL} rouge-1 p\": scores[\"rouge-1\"][\"p\"],\n",
    "    f\"{MODEL} rouge-1 r\": scores[\"rouge-1\"][\"r\"],\n",
    "    f\"{MODEL} rouge-2 f\": scores[\"rouge-2\"][\"f\"],\n",
    "    f\"{MODEL} rouge-2 p\": scores[\"rouge-2\"][\"p\"],\n",
    "    f\"{MODEL} rouge-2 r\": scores[\"rouge-2\"][\"r\"],\n",
    "    f\"{MODEL} rouge-l f\": scores[\"rouge-l\"][\"f\"],\n",
    "    f\"{MODEL} rouge-l p\": scores[\"rouge-l\"][\"p\"],\n",
    "    f\"{MODEL} rouge-l r\": scores[\"rouge-l\"][\"r\"],\n",
    "})\n",
    "\n",
    "print(f\"{MODEL} rouge-1: f={scores['rouge-1']['f']:.4f}, p={scores['rouge-1']['p']:.4f}, r={scores['rouge-1']['r']:.4f}\")\n",
    "print(f\"{MODEL} rouge-2: f={scores['rouge-2']['f']:.4f}, p={scores['rouge-2']['p']:.4f}, r={scores['rouge-2']['r']:.4f}\")\n",
    "print(f\"{MODEL} rouge-l: f={scores['rouge-l']['f']:.4f}, p={scores['rouge-l']['p']:.4f}, r={scores['rouge-l']['r']:.4f}\")"
   ]
  },
  {
   "cell_type": "code",
   "execution_count": 13,
   "id": "3dca3124",
   "metadata": {},
   "outputs": [
    {
     "data": {
      "text/plain": [
       "674"
      ]
     },
     "execution_count": 13,
     "metadata": {},
     "output_type": "execute_result"
    }
   ],
   "source": [
    "len(data)"
   ]
  },
  {
   "cell_type": "code",
   "execution_count": 14,
   "id": "ae268f56",
   "metadata": {},
   "outputs": [],
   "source": [
    "# Llama_70B_self_ask"
   ]
  },
  {
   "cell_type": "code",
   "execution_count": 15,
   "id": "c093d118",
   "metadata": {},
   "outputs": [
    {
     "name": "stdout",
     "output_type": "stream",
     "text": [
      "Llama_70B_self_ask rouge-1: f=0.3734, p=0.3892, r=0.4361\n",
      "Llama_70B_self_ask rouge-2: f=0.2259, p=0.2368, r=0.2615\n",
      "Llama_70B_self_ask rouge-l: f=0.3539, p=0.3705, r=0.4120\n"
     ]
    }
   ],
   "source": [
    "import os\n",
    "from rouge import Rouge\n",
    "import pymorphy2\n",
    "import json\n",
    "import re\n",
    "\n",
    "def extract_answer(text: str) -> str:\n",
    "    match = re.search(r'(?i)ответ:\\s*(.*)', text)\n",
    "    if match:\n",
    "        return match.group(1).strip()\n",
    "    return text.strip()\n",
    "\n",
    "MODEL = \"Llama_70B_self_ask\"\n",
    "\n",
    "with open(f\"generation/{MODEL}.json\", \"r\") as f:\n",
    "    data = json.load(f)\n",
    "\n",
    "rouge = Rouge()\n",
    "morph = pymorphy2.MorphAnalyzer()\n",
    "\n",
    "\n",
    "def stem_text(text):\n",
    "    words = text.split()\n",
    "    stemmed_words = [morph.parse(word)[0].normal_form for word in words]\n",
    "    return ' '.join(stemmed_words)\n",
    "\n",
    "\n",
    "\n",
    "gen = []\n",
    "ref = []\n",
    "\n",
    "for item in data:\n",
    "    if (item['model_answer'] == \"\"):\n",
    "        gen.append(stem_text(\"К сожалению, ответа на вопрос нет в упомянутых источниках\"))\n",
    "    else:\n",
    "        gen.append(stem_text(extract_answer(item['model_answer'])))\n",
    "    ref.append(stem_text(item['table_data']['Ответ']))\n",
    "    \n",
    "\n",
    "scores = rouge.get_scores(gen, ref, avg=True)\n",
    "\n",
    "results_dict.append({\n",
    "    f\"{MODEL} rouge-1 f\": scores[\"rouge-1\"][\"f\"],\n",
    "    f\"{MODEL} rouge-1 p\": scores[\"rouge-1\"][\"p\"],\n",
    "    f\"{MODEL} rouge-1 r\": scores[\"rouge-1\"][\"r\"],\n",
    "    f\"{MODEL} rouge-2 f\": scores[\"rouge-2\"][\"f\"],\n",
    "    f\"{MODEL} rouge-2 p\": scores[\"rouge-2\"][\"p\"],\n",
    "    f\"{MODEL} rouge-2 r\": scores[\"rouge-2\"][\"r\"],\n",
    "    f\"{MODEL} rouge-l f\": scores[\"rouge-l\"][\"f\"],\n",
    "    f\"{MODEL} rouge-l p\": scores[\"rouge-l\"][\"p\"],\n",
    "    f\"{MODEL} rouge-l r\": scores[\"rouge-l\"][\"r\"],\n",
    "})\n",
    "\n",
    "print(f\"{MODEL} rouge-1: f={scores['rouge-1']['f']:.4f}, p={scores['rouge-1']['p']:.4f}, r={scores['rouge-1']['r']:.4f}\")\n",
    "print(f\"{MODEL} rouge-2: f={scores['rouge-2']['f']:.4f}, p={scores['rouge-2']['p']:.4f}, r={scores['rouge-2']['r']:.4f}\")\n",
    "print(f\"{MODEL} rouge-l: f={scores['rouge-l']['f']:.4f}, p={scores['rouge-l']['p']:.4f}, r={scores['rouge-l']['r']:.4f}\")"
   ]
  },
  {
   "cell_type": "code",
   "execution_count": 16,
   "id": "33b50511",
   "metadata": {},
   "outputs": [
    {
     "data": {
      "text/plain": [
       "[{'qwen-1.5b-baseline rouge-1 f': 0.2468493407061977,\n",
       "  'qwen-1.5b-baseline rouge-1 p': 0.20517949702646443,\n",
       "  'qwen-1.5b-baseline rouge-1 r': 0.3849880414317504,\n",
       "  'qwen-1.5b-baseline rouge-2 f': 0.1114219760671971,\n",
       "  'qwen-1.5b-baseline rouge-2 p': 0.09143164771340104,\n",
       "  'qwen-1.5b-baseline rouge-2 r': 0.18925714570550523,\n",
       "  'qwen-1.5b-baseline rouge-l f': 0.2264076793603992,\n",
       "  'qwen-1.5b-baseline rouge-l p': 0.18806310454438557,\n",
       "  'qwen-1.5b-baseline rouge-l r': 0.3546693940334236},\n",
       " {'qwen-1.5b-raw rouge-1 f': 0.2245082718875137,\n",
       "  'qwen-1.5b-raw rouge-1 p': 0.1962344011678594,\n",
       "  'qwen-1.5b-raw rouge-1 r': 0.3655660610984889,\n",
       "  'qwen-1.5b-raw rouge-2 f': 0.10389118187030688,\n",
       "  'qwen-1.5b-raw rouge-2 p': 0.08935620952651867,\n",
       "  'qwen-1.5b-raw rouge-2 r': 0.17469420786697448,\n",
       "  'qwen-1.5b-raw rouge-l f': 0.20679615454081832,\n",
       "  'qwen-1.5b-raw rouge-l p': 0.18018498858287213,\n",
       "  'qwen-1.5b-raw rouge-l r': 0.3413789409132718},\n",
       " {'qwen-1.5b-ru rouge-1 f': 0.18234260382437195,\n",
       "  'qwen-1.5b-ru rouge-1 p': 0.1687162245862875,\n",
       "  'qwen-1.5b-ru rouge-1 r': 0.3051451190505762,\n",
       "  'qwen-1.5b-ru rouge-2 f': 0.06765815912272571,\n",
       "  'qwen-1.5b-ru rouge-2 p': 0.055923580224071665,\n",
       "  'qwen-1.5b-ru rouge-2 r': 0.13078545637662004,\n",
       "  'qwen-1.5b-ru rouge-l f': 0.16428423700499328,\n",
       "  'qwen-1.5b-ru rouge-l p': 0.15082064041200488,\n",
       "  'qwen-1.5b-ru rouge-l r': 0.2809799703109194},\n",
       " {'qwen-1.5b-ret-robust rouge-1 f': 0.21357270931553232,\n",
       "  'qwen-1.5b-ret-robust rouge-1 p': 0.1654316278845871,\n",
       "  'qwen-1.5b-ret-robust rouge-1 r': 0.3915426489081195,\n",
       "  'qwen-1.5b-ret-robust rouge-2 f': 0.08596096560424697,\n",
       "  'qwen-1.5b-ret-robust rouge-2 p': 0.06494581664035734,\n",
       "  'qwen-1.5b-ret-robust rouge-2 r': 0.17880035855716225,\n",
       "  'qwen-1.5b-ret-robust rouge-l f': 0.19768123147385688,\n",
       "  'qwen-1.5b-ret-robust rouge-l p': 0.15298851562409865,\n",
       "  'qwen-1.5b-ret-robust rouge-l r': 0.3647665255238552},\n",
       " {'Llama_70B_default rouge-1 f': 0.43090229979336053,\n",
       "  'Llama_70B_default rouge-1 p': 0.47313662219118297,\n",
       "  'Llama_70B_default rouge-1 r': 0.43974652089034405,\n",
       "  'Llama_70B_default rouge-2 f': 0.264699103919173,\n",
       "  'Llama_70B_default rouge-2 p': 0.2944273308165642,\n",
       "  'Llama_70B_default rouge-2 r': 0.27231815639179596,\n",
       "  'Llama_70B_default rouge-l f': 0.40226790480999386,\n",
       "  'Llama_70B_default rouge-l p': 0.44196018341169807,\n",
       "  'Llama_70B_default rouge-l r': 0.41149033817869707},\n",
       " {'Llama_70B_CoT rouge-1 f': 0.3869954402266054,\n",
       "  'Llama_70B_CoT rouge-1 p': 0.4142129141340177,\n",
       "  'Llama_70B_CoT rouge-1 r': 0.40765085074523427,\n",
       "  'Llama_70B_CoT rouge-2 f': 0.22535584886646567,\n",
       "  'Llama_70B_CoT rouge-2 p': 0.23141690731095535,\n",
       "  'Llama_70B_CoT rouge-2 r': 0.24878485908920264,\n",
       "  'Llama_70B_CoT rouge-l f': 0.35569681908282214,\n",
       "  'Llama_70B_CoT rouge-l p': 0.3813094307132729,\n",
       "  'Llama_70B_CoT rouge-l r': 0.3760356095417478},\n",
       " {'Llama_70B_self_ask rouge-1 f': 0.3733718571765991,\n",
       "  'Llama_70B_self_ask rouge-1 p': 0.38919704423705254,\n",
       "  'Llama_70B_self_ask rouge-1 r': 0.43605353484071313,\n",
       "  'Llama_70B_self_ask rouge-2 f': 0.2258621324220622,\n",
       "  'Llama_70B_self_ask rouge-2 p': 0.23682422156640395,\n",
       "  'Llama_70B_self_ask rouge-2 r': 0.26148460744130214,\n",
       "  'Llama_70B_self_ask rouge-l f': 0.35391550076527295,\n",
       "  'Llama_70B_self_ask rouge-l p': 0.3705065055334866,\n",
       "  'Llama_70B_self_ask rouge-l r': 0.4119804411947062}]"
      ]
     },
     "execution_count": 16,
     "metadata": {},
     "output_type": "execute_result"
    }
   ],
   "source": [
    "results_dict"
   ]
  },
  {
   "cell_type": "markdown",
   "id": "f7bf00d8",
   "metadata": {},
   "source": [
    "# qwen 3b raw"
   ]
  },
  {
   "cell_type": "code",
   "execution_count": 1,
   "id": "d0766802",
   "metadata": {},
   "outputs": [
    {
     "name": "stdout",
     "output_type": "stream",
     "text": [
      "qwen-3b-raw rouge-1: f=0.2569, p=0.2073, r=0.4469\n",
      "qwen-3b-raw rouge-2: f=0.1146, p=0.0894, r=0.2169\n",
      "qwen-3b-raw rouge-l: f=0.2327, p=0.1871, r=0.4086\n"
     ]
    }
   ],
   "source": [
    "\n",
    "import os\n",
    "from rouge import Rouge\n",
    "import pymorphy2\n",
    "import json\n",
    "\n",
    "MODEL = \"qwen-3b-raw\"\n",
    "\n",
    "with open(f\"generation/{MODEL}.json\", \"r\") as f:\n",
    "    data = json.load(f)\n",
    "\n",
    "rouge = Rouge()\n",
    "morph = pymorphy2.MorphAnalyzer()\n",
    "\n",
    "\n",
    "def stem_text(text):\n",
    "    words = text.split()\n",
    "    stemmed_words = [morph.parse(word)[0].normal_form for word in words]\n",
    "    return ' '.join(stemmed_words)\n",
    "\n",
    "\n",
    "\n",
    "gen = []\n",
    "ref = []\n",
    "\n",
    "for item in data:\n",
    "    gen.append(stem_text(item['model_answer']))\n",
    "    ref.append(stem_text(item['table_data']['Ответ']))\n",
    "    \n",
    "\n",
    "scores = rouge.get_scores(gen, ref, avg=True)\n",
    "\n",
    "# results_dict.append({\n",
    "#     f\"{MODEL} rouge-1 f\": scores[\"rouge-1\"][\"f\"],\n",
    "#     f\"{MODEL} rouge-1 p\": scores[\"rouge-1\"][\"p\"],\n",
    "#     f\"{MODEL} rouge-1 r\": scores[\"rouge-1\"][\"r\"],\n",
    "#     f\"{MODEL} rouge-2 f\": scores[\"rouge-2\"][\"f\"],\n",
    "#     f\"{MODEL} rouge-2 p\": scores[\"rouge-2\"][\"p\"],\n",
    "#     f\"{MODEL} rouge-2 r\": scores[\"rouge-2\"][\"r\"],\n",
    "#     f\"{MODEL} rouge-l f\": scores[\"rouge-l\"][\"f\"],\n",
    "#     f\"{MODEL} rouge-l p\": scores[\"rouge-l\"][\"p\"],\n",
    "#     f\"{MODEL} rouge-l r\": scores[\"rouge-l\"][\"r\"],\n",
    "# })\n",
    "\n",
    "print(f\"{MODEL} rouge-1: f={scores['rouge-1']['f']:.4f}, p={scores['rouge-1']['p']:.4f}, r={scores['rouge-1']['r']:.4f}\")\n",
    "print(f\"{MODEL} rouge-2: f={scores['rouge-2']['f']:.4f}, p={scores['rouge-2']['p']:.4f}, r={scores['rouge-2']['r']:.4f}\")\n",
    "print(f\"{MODEL} rouge-l: f={scores['rouge-l']['f']:.4f}, p={scores['rouge-l']['p']:.4f}, r={scores['rouge-l']['r']:.4f}\")"
   ]
  },
  {
   "cell_type": "markdown",
   "id": "53b5ba80",
   "metadata": {},
   "source": [
    "# qwen 3b webglm"
   ]
  },
  {
   "cell_type": "code",
   "execution_count": 2,
   "id": "815ac4ff",
   "metadata": {},
   "outputs": [
    {
     "name": "stdout",
     "output_type": "stream",
     "text": [
      "qwen-3b-webglm rouge-1: f=0.2980, p=0.2575, r=0.4455\n",
      "qwen-3b-webglm rouge-2: f=0.1529, p=0.1315, r=0.2375\n",
      "qwen-3b-webglm rouge-l: f=0.2758, p=0.2378, r=0.4152\n"
     ]
    }
   ],
   "source": [
    "\n",
    "import os\n",
    "from rouge import Rouge\n",
    "import pymorphy2\n",
    "import json\n",
    "\n",
    "MODEL = \"qwen-3b-webglm\"\n",
    "\n",
    "with open(f\"generation/{MODEL}.json\", \"r\") as f:\n",
    "    data = json.load(f)\n",
    "\n",
    "rouge = Rouge()\n",
    "morph = pymorphy2.MorphAnalyzer()\n",
    "\n",
    "\n",
    "def stem_text(text):\n",
    "    words = text.split()\n",
    "    stemmed_words = [morph.parse(word)[0].normal_form for word in words]\n",
    "    return ' '.join(stemmed_words)\n",
    "\n",
    "\n",
    "\n",
    "gen = []\n",
    "ref = []\n",
    "\n",
    "for item in data:\n",
    "    gen.append(stem_text(item['model_answer']))\n",
    "    ref.append(stem_text(item['table_data']['Ответ']))\n",
    "    \n",
    "\n",
    "scores = rouge.get_scores(gen, ref, avg=True)\n",
    "\n",
    "# results_dict.append({\n",
    "#     f\"{MODEL} rouge-1 f\": scores[\"rouge-1\"][\"f\"],\n",
    "#     f\"{MODEL} rouge-1 p\": scores[\"rouge-1\"][\"p\"],\n",
    "#     f\"{MODEL} rouge-1 r\": scores[\"rouge-1\"][\"r\"],\n",
    "#     f\"{MODEL} rouge-2 f\": scores[\"rouge-2\"][\"f\"],\n",
    "#     f\"{MODEL} rouge-2 p\": scores[\"rouge-2\"][\"p\"],\n",
    "#     f\"{MODEL} rouge-2 r\": scores[\"rouge-2\"][\"r\"],\n",
    "#     f\"{MODEL} rouge-l f\": scores[\"rouge-l\"][\"f\"],\n",
    "#     f\"{MODEL} rouge-l p\": scores[\"rouge-l\"][\"p\"],\n",
    "#     f\"{MODEL} rouge-l r\": scores[\"rouge-l\"][\"r\"],\n",
    "# })\n",
    "\n",
    "print(f\"{MODEL} rouge-1: f={scores['rouge-1']['f']:.4f}, p={scores['rouge-1']['p']:.4f}, r={scores['rouge-1']['r']:.4f}\")\n",
    "print(f\"{MODEL} rouge-2: f={scores['rouge-2']['f']:.4f}, p={scores['rouge-2']['p']:.4f}, r={scores['rouge-2']['r']:.4f}\")\n",
    "print(f\"{MODEL} rouge-l: f={scores['rouge-l']['f']:.4f}, p={scores['rouge-l']['p']:.4f}, r={scores['rouge-l']['r']:.4f}\")"
   ]
  },
  {
   "cell_type": "markdown",
   "id": "230ad2f6",
   "metadata": {},
   "source": [
    "# qwen-3b-raft"
   ]
  },
  {
   "cell_type": "code",
   "execution_count": 4,
   "id": "f664d538",
   "metadata": {},
   "outputs": [
    {
     "name": "stdout",
     "output_type": "stream",
     "text": [
      "qwen-3b-raft rouge-1: f=0.2159, p=0.1508, r=0.5394\n",
      "qwen-3b-raft rouge-2: f=0.0919, p=0.0613, r=0.2762\n",
      "qwen-3b-raft rouge-l: f=0.2009, p=0.1395, r=0.5092\n"
     ]
    }
   ],
   "source": [
    "import os\n",
    "from rouge import Rouge\n",
    "import pymorphy2\n",
    "import json\n",
    "\n",
    "MODEL = \"qwen-3b-raft\"\n",
    "\n",
    "with open(f\"generation/{MODEL}.json\", \"r\") as f:\n",
    "    data = json.load(f)\n",
    "\n",
    "rouge = Rouge()\n",
    "morph = pymorphy2.MorphAnalyzer()\n",
    "\n",
    "\n",
    "def stem_text(text):\n",
    "    words = text.split()\n",
    "    stemmed_words = [morph.parse(word)[0].normal_form for word in words]\n",
    "    return ' '.join(stemmed_words)\n",
    "\n",
    "\n",
    "\n",
    "gen = []\n",
    "ref = []\n",
    "\n",
    "for item in data:\n",
    "    gen.append(stem_text(item['model_answer']))\n",
    "    ref.append(stem_text(item['table_data']['Ответ']))\n",
    "    \n",
    "\n",
    "scores = rouge.get_scores(gen, ref, avg=True)\n",
    "\n",
    "# results_dict.append({\n",
    "#     f\"{MODEL} rouge-1 f\": scores[\"rouge-1\"][\"f\"],\n",
    "#     f\"{MODEL} rouge-1 p\": scores[\"rouge-1\"][\"p\"],\n",
    "#     f\"{MODEL} rouge-1 r\": scores[\"rouge-1\"][\"r\"],\n",
    "#     f\"{MODEL} rouge-2 f\": scores[\"rouge-2\"][\"f\"],\n",
    "#     f\"{MODEL} rouge-2 p\": scores[\"rouge-2\"][\"p\"],\n",
    "#     f\"{MODEL} rouge-2 r\": scores[\"rouge-2\"][\"r\"],\n",
    "#     f\"{MODEL} rouge-l f\": scores[\"rouge-l\"][\"f\"],\n",
    "#     f\"{MODEL} rouge-l p\": scores[\"rouge-l\"][\"p\"],\n",
    "#     f\"{MODEL} rouge-l r\": scores[\"rouge-l\"][\"r\"],\n",
    "# })\n",
    "\n",
    "print(f\"{MODEL} rouge-1: f={scores['rouge-1']['f']:.4f}, p={scores['rouge-1']['p']:.4f}, r={scores['rouge-1']['r']:.4f}\")\n",
    "print(f\"{MODEL} rouge-2: f={scores['rouge-2']['f']:.4f}, p={scores['rouge-2']['p']:.4f}, r={scores['rouge-2']['r']:.4f}\")\n",
    "print(f\"{MODEL} rouge-l: f={scores['rouge-l']['f']:.4f}, p={scores['rouge-l']['p']:.4f}, r={scores['rouge-l']['r']:.4f}\")"
   ]
  },
  {
   "cell_type": "markdown",
   "id": "d60e946e",
   "metadata": {},
   "source": [
    "# qwen 3b raft clean"
   ]
  },
  {
   "cell_type": "code",
   "execution_count": 2,
   "id": "55dbd124",
   "metadata": {},
   "outputs": [
    {
     "name": "stdout",
     "output_type": "stream",
     "text": [
      "qwen-3b-raft rouge-1: f=0.2324, p=0.1672, r=0.5539\n",
      "qwen-3b-raft rouge-2: f=0.1167, p=0.0855, r=0.3080\n",
      "qwen-3b-raft rouge-l: f=0.2202, p=0.1586, r=0.5270\n"
     ]
    }
   ],
   "source": [
    "import os\n",
    "from rouge import Rouge\n",
    "import pymorphy2\n",
    "import json\n",
    "\n",
    "MODEL = \"qwen-3b-raft\"\n",
    "\n",
    "with open(f\"generation/{MODEL}.json\", \"r\") as f:\n",
    "    data = json.load(f)\n",
    "\n",
    "rouge = Rouge()\n",
    "morph = pymorphy2.MorphAnalyzer()\n",
    "\n",
    "\n",
    "def stem_text(text):\n",
    "    words = text.split()\n",
    "    stemmed_words = [morph.parse(word)[0].normal_form for word in words]\n",
    "    return ' '.join(stemmed_words)\n",
    "\n",
    "\n",
    "\n",
    "gen = []\n",
    "ref = []\n",
    "\n",
    "for item in data:\n",
    "    gen.append(stem_text(item['model_answer']))\n",
    "    if item['table_data']['Тип вопроса'] == \"No info\" or item['table_data']['Тип вопроса'] == \"No Info\":\n",
    "        ref.append(stem_text(\"К сожалению, ответа на вопрос нет в упомянутых источниках.\"))\n",
    "    else:\n",
    "        ref.append(stem_text(item['table_data']['Ответ']))\n",
    "    \n",
    "\n",
    "scores = rouge.get_scores(gen, ref, avg=True)\n",
    "\n",
    "# results_dict.append({\n",
    "#     f\"{MODEL} rouge-1 f\": scores[\"rouge-1\"][\"f\"],\n",
    "#     f\"{MODEL} rouge-1 p\": scores[\"rouge-1\"][\"p\"],\n",
    "#     f\"{MODEL} rouge-1 r\": scores[\"rouge-1\"][\"r\"],\n",
    "#     f\"{MODEL} rouge-2 f\": scores[\"rouge-2\"][\"f\"],\n",
    "#     f\"{MODEL} rouge-2 p\": scores[\"rouge-2\"][\"p\"],\n",
    "#     f\"{MODEL} rouge-2 r\": scores[\"rouge-2\"][\"r\"],\n",
    "#     f\"{MODEL} rouge-l f\": scores[\"rouge-l\"][\"f\"],\n",
    "#     f\"{MODEL} rouge-l p\": scores[\"rouge-l\"][\"p\"],\n",
    "#     f\"{MODEL} rouge-l r\": scores[\"rouge-l\"][\"r\"],\n",
    "# })\n",
    "\n",
    "print(f\"{MODEL} rouge-1: f={scores['rouge-1']['f']:.4f}, p={scores['rouge-1']['p']:.4f}, r={scores['rouge-1']['r']:.4f}\")\n",
    "print(f\"{MODEL} rouge-2: f={scores['rouge-2']['f']:.4f}, p={scores['rouge-2']['p']:.4f}, r={scores['rouge-2']['r']:.4f}\")\n",
    "print(f\"{MODEL} rouge-l: f={scores['rouge-l']['f']:.4f}, p={scores['rouge-l']['p']:.4f}, r={scores['rouge-l']['r']:.4f}\")"
   ]
  },
  {
   "cell_type": "markdown",
   "id": "76203073",
   "metadata": {},
   "source": [
    "# qwen 1.5 webglm clean"
   ]
  },
  {
   "cell_type": "code",
   "execution_count": 1,
   "id": "b03f1038",
   "metadata": {},
   "outputs": [
    {
     "name": "stdout",
     "output_type": "stream",
     "text": [
      "qwen-1.5b-webglm-final rouge-1: f=0.2429, p=0.2062, r=0.3876\n",
      "qwen-1.5b-webglm-final rouge-2: f=0.1167, p=0.1003, r=0.1914\n",
      "qwen-1.5b-webglm-final rouge-l: f=0.2275, p=0.1928, r=0.3644\n"
     ]
    }
   ],
   "source": [
    "import os\n",
    "from rouge import Rouge\n",
    "import pymorphy2\n",
    "import json\n",
    "\n",
    "MODEL = \"qwen-1.5b-webglm-final\"\n",
    "\n",
    "with open(f\"generation/{MODEL}.json\", \"r\") as f:\n",
    "    data = json.load(f)\n",
    "\n",
    "rouge = Rouge()\n",
    "morph = pymorphy2.MorphAnalyzer()\n",
    "\n",
    "\n",
    "def stem_text(text):\n",
    "    words = text.split()\n",
    "    stemmed_words = [morph.parse(word)[0].normal_form for word in words]\n",
    "    return ' '.join(stemmed_words)\n",
    "\n",
    "\n",
    "\n",
    "gen = []\n",
    "ref = []\n",
    "\n",
    "for item in data:\n",
    "    gen.append(stem_text(item['model_answer']))\n",
    "    if item['table_data']['Тип вопроса'] == \"No info\" or item['table_data']['Тип вопроса'] == \"No Info\":\n",
    "        ref.append(stem_text(\"К сожалению, ответа на вопрос нет в упомянутых источниках.\"))\n",
    "    else:\n",
    "        ref.append(stem_text(item['table_data']['Ответ']))\n",
    "    \n",
    "\n",
    "scores = rouge.get_scores(gen, ref, avg=True)\n",
    "\n",
    "# results_dict.append({\n",
    "#     f\"{MODEL} rouge-1 f\": scores[\"rouge-1\"][\"f\"],\n",
    "#     f\"{MODEL} rouge-1 p\": scores[\"rouge-1\"][\"p\"],\n",
    "#     f\"{MODEL} rouge-1 r\": scores[\"rouge-1\"][\"r\"],\n",
    "#     f\"{MODEL} rouge-2 f\": scores[\"rouge-2\"][\"f\"],\n",
    "#     f\"{MODEL} rouge-2 p\": scores[\"rouge-2\"][\"p\"],\n",
    "#     f\"{MODEL} rouge-2 r\": scores[\"rouge-2\"][\"r\"],\n",
    "#     f\"{MODEL} rouge-l f\": scores[\"rouge-l\"][\"f\"],\n",
    "#     f\"{MODEL} rouge-l p\": scores[\"rouge-l\"][\"p\"],\n",
    "#     f\"{MODEL} rouge-l r\": scores[\"rouge-l\"][\"r\"],\n",
    "# })\n",
    "\n",
    "print(f\"{MODEL} rouge-1: f={scores['rouge-1']['f']:.4f}, p={scores['rouge-1']['p']:.4f}, r={scores['rouge-1']['r']:.4f}\")\n",
    "print(f\"{MODEL} rouge-2: f={scores['rouge-2']['f']:.4f}, p={scores['rouge-2']['p']:.4f}, r={scores['rouge-2']['r']:.4f}\")\n",
    "print(f\"{MODEL} rouge-l: f={scores['rouge-l']['f']:.4f}, p={scores['rouge-l']['p']:.4f}, r={scores['rouge-l']['r']:.4f}\")"
   ]
  },
  {
   "cell_type": "markdown",
   "id": "d959b57d",
   "metadata": {},
   "source": [
    "# qwen 1.5b raft final clean"
   ]
  },
  {
   "cell_type": "code",
   "execution_count": 2,
   "id": "96885e63",
   "metadata": {},
   "outputs": [
    {
     "name": "stdout",
     "output_type": "stream",
     "text": [
      "qwen-1.5b-raft-final rouge-1: f=0.1960, p=0.1530, r=0.4213\n",
      "qwen-1.5b-raft-final rouge-2: f=0.0960, p=0.0758, r=0.2049\n",
      "qwen-1.5b-raft-final rouge-l: f=0.1852, p=0.1446, r=0.3992\n"
     ]
    }
   ],
   "source": [
    "import os\n",
    "from rouge import Rouge\n",
    "import pymorphy2\n",
    "import json\n",
    "\n",
    "MODEL = \"qwen-1.5b-raft-final\"\n",
    "\n",
    "with open(f\"generation/{MODEL}.json\", \"r\") as f:\n",
    "    data = json.load(f)\n",
    "\n",
    "rouge = Rouge()\n",
    "morph = pymorphy2.MorphAnalyzer()\n",
    "\n",
    "\n",
    "def stem_text(text):\n",
    "    words = text.split()\n",
    "    stemmed_words = [morph.parse(word)[0].normal_form for word in words]\n",
    "    return ' '.join(stemmed_words)\n",
    "\n",
    "\n",
    "\n",
    "gen = []\n",
    "ref = []\n",
    "\n",
    "for item in data:\n",
    "    gen.append(stem_text(item['model_answer']))\n",
    "    if item['table_data']['Тип вопроса'] == \"No info\" or item['table_data']['Тип вопроса'] == \"No Info\":\n",
    "        ref.append(stem_text(\"К сожалению, ответа на вопрос нет в упомянутых источниках.\"))\n",
    "    else:\n",
    "        ref.append(stem_text(item['table_data']['Ответ']))\n",
    "    \n",
    "\n",
    "scores = rouge.get_scores(gen, ref, avg=True)\n",
    "\n",
    "# results_dict.append({\n",
    "#     f\"{MODEL} rouge-1 f\": scores[\"rouge-1\"][\"f\"],\n",
    "#     f\"{MODEL} rouge-1 p\": scores[\"rouge-1\"][\"p\"],\n",
    "#     f\"{MODEL} rouge-1 r\": scores[\"rouge-1\"][\"r\"],\n",
    "#     f\"{MODEL} rouge-2 f\": scores[\"rouge-2\"][\"f\"],\n",
    "#     f\"{MODEL} rouge-2 p\": scores[\"rouge-2\"][\"p\"],\n",
    "#     f\"{MODEL} rouge-2 r\": scores[\"rouge-2\"][\"r\"],\n",
    "#     f\"{MODEL} rouge-l f\": scores[\"rouge-l\"][\"f\"],\n",
    "#     f\"{MODEL} rouge-l p\": scores[\"rouge-l\"][\"p\"],\n",
    "#     f\"{MODEL} rouge-l r\": scores[\"rouge-l\"][\"r\"],\n",
    "# })\n",
    "\n",
    "print(f\"{MODEL} rouge-1: f={scores['rouge-1']['f']:.4f}, p={scores['rouge-1']['p']:.4f}, r={scores['rouge-1']['r']:.4f}\")\n",
    "print(f\"{MODEL} rouge-2: f={scores['rouge-2']['f']:.4f}, p={scores['rouge-2']['p']:.4f}, r={scores['rouge-2']['r']:.4f}\")\n",
    "print(f\"{MODEL} rouge-l: f={scores['rouge-l']['f']:.4f}, p={scores['rouge-l']['p']:.4f}, r={scores['rouge-l']['r']:.4f}\")"
   ]
  },
  {
   "cell_type": "markdown",
   "id": "f1fdaa58",
   "metadata": {},
   "source": [
    "# qwen 32b"
   ]
  },
  {
   "cell_type": "code",
   "execution_count": 4,
   "id": "1610e804",
   "metadata": {},
   "outputs": [
    {
     "name": "stdout",
     "output_type": "stream",
     "text": [
      "Qwen2.5-32B-Default rouge-1: f=0.4245, p=0.3812, r=0.5600\n",
      "Qwen2.5-32B-Default rouge-2: f=0.2836, p=0.2575, r=0.3758\n",
      "Qwen2.5-32B-Default rouge-l: f=0.4031, p=0.3619, r=0.5327\n"
     ]
    }
   ],
   "source": [
    "import os\n",
    "from rouge import Rouge\n",
    "import pymorphy2\n",
    "import json\n",
    "\n",
    "MODEL = \"Qwen2.5-32B-Default\"\n",
    "\n",
    "with open(f\"scored_llama/{MODEL}.json\", \"r\") as f:\n",
    "    data = json.load(f)\n",
    "\n",
    "rouge = Rouge()\n",
    "morph = pymorphy2.MorphAnalyzer()\n",
    "\n",
    "\n",
    "def stem_text(text):\n",
    "    words = text.split()\n",
    "    stemmed_words = [morph.parse(word)[0].normal_form for word in words]\n",
    "    return ' '.join(stemmed_words)\n",
    "\n",
    "\n",
    "\n",
    "gen = []\n",
    "ref = []\n",
    "\n",
    "for item in data:\n",
    "    gen.append(stem_text(item['model_answer']))\n",
    "    if item['table_data']['Тип вопроса'] == \"No info\" or item['table_data']['Тип вопроса'] == \"No Info\":\n",
    "        ref.append(stem_text(\"К сожалению, ответа на вопрос нет в упомянутых источниках.\"))\n",
    "    else:\n",
    "        ref.append(stem_text(item['table_data']['Ответ']))\n",
    "    \n",
    "\n",
    "scores = rouge.get_scores(gen, ref, avg=True)\n",
    "\n",
    "# results_dict.append({\n",
    "#     f\"{MODEL} rouge-1 f\": scores[\"rouge-1\"][\"f\"],\n",
    "#     f\"{MODEL} rouge-1 p\": scores[\"rouge-1\"][\"p\"],\n",
    "#     f\"{MODEL} rouge-1 r\": scores[\"rouge-1\"][\"r\"],\n",
    "#     f\"{MODEL} rouge-2 f\": scores[\"rouge-2\"][\"f\"],\n",
    "#     f\"{MODEL} rouge-2 p\": scores[\"rouge-2\"][\"p\"],\n",
    "#     f\"{MODEL} rouge-2 r\": scores[\"rouge-2\"][\"r\"],\n",
    "#     f\"{MODEL} rouge-l f\": scores[\"rouge-l\"][\"f\"],\n",
    "#     f\"{MODEL} rouge-l p\": scores[\"rouge-l\"][\"p\"],\n",
    "#     f\"{MODEL} rouge-l r\": scores[\"rouge-l\"][\"r\"],\n",
    "# })\n",
    "\n",
    "print(f\"{MODEL} rouge-1: f={scores['rouge-1']['f']:.4f}, p={scores['rouge-1']['p']:.4f}, r={scores['rouge-1']['r']:.4f}\")\n",
    "print(f\"{MODEL} rouge-2: f={scores['rouge-2']['f']:.4f}, p={scores['rouge-2']['p']:.4f}, r={scores['rouge-2']['r']:.4f}\")\n",
    "print(f\"{MODEL} rouge-l: f={scores['rouge-l']['f']:.4f}, p={scores['rouge-l']['p']:.4f}, r={scores['rouge-l']['r']:.4f}\")"
   ]
  }
 ],
 "metadata": {
  "kernelspec": {
   "display_name": "Python 3",
   "language": "python",
   "name": "python3"
  },
  "language_info": {
   "codemirror_mode": {
    "name": "ipython",
    "version": 3
   },
   "file_extension": ".py",
   "mimetype": "text/x-python",
   "name": "python",
   "nbconvert_exporter": "python",
   "pygments_lexer": "ipython3",
   "version": "3.10.12"
  }
 },
 "nbformat": 4,
 "nbformat_minor": 5
}
