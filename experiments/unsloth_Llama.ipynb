{
 "cells": [
  {
   "cell_type": "code",
   "execution_count": 1,
   "id": "6aa8f3d4",
   "metadata": {},
   "outputs": [
    {
     "name": "stdout",
     "output_type": "stream",
     "text": [
      "🦥 Unsloth: Will patch your computer to enable 2x faster free finetuning.\n"
     ]
    },
    {
     "name": "stderr",
     "output_type": "stream",
     "text": [
      "2025-05-08 12:13:37.017258: E external/local_xla/xla/stream_executor/cuda/cuda_fft.cc:467] Unable to register cuFFT factory: Attempting to register factory for plugin cuFFT when one has already been registered\n",
      "WARNING: All log messages before absl::InitializeLog() is called are written to STDERR\n",
      "E0000 00:00:1746695617.114885    3072 cuda_dnn.cc:8579] Unable to register cuDNN factory: Attempting to register factory for plugin cuDNN when one has already been registered\n",
      "E0000 00:00:1746695617.143547    3072 cuda_blas.cc:1407] Unable to register cuBLAS factory: Attempting to register factory for plugin cuBLAS when one has already been registered\n",
      "W0000 00:00:1746695617.341352    3072 computation_placer.cc:177] computation placer already registered. Please check linkage and avoid linking the same target more than once.\n",
      "W0000 00:00:1746695617.341377    3072 computation_placer.cc:177] computation placer already registered. Please check linkage and avoid linking the same target more than once.\n",
      "W0000 00:00:1746695617.341380    3072 computation_placer.cc:177] computation placer already registered. Please check linkage and avoid linking the same target more than once.\n",
      "W0000 00:00:1746695617.341382    3072 computation_placer.cc:177] computation placer already registered. Please check linkage and avoid linking the same target more than once.\n",
      "2025-05-08 12:13:37.365065: I tensorflow/core/platform/cpu_feature_guard.cc:210] This TensorFlow binary is optimized to use available CPU instructions in performance-critical operations.\n",
      "To enable the following instructions: AVX2 FMA, in other operations, rebuild TensorFlow with the appropriate compiler flags.\n"
     ]
    },
    {
     "name": "stdout",
     "output_type": "stream",
     "text": [
      "🦥 Unsloth Zoo will now patch everything to make training faster!\n"
     ]
    }
   ],
   "source": [
    "from unsloth import FastLanguageModel\n",
    "import torch\n",
    "from datasets import load_dataset\n",
    "from trl import SFTTrainer\n",
    "from transformers import TrainingArguments, AutoTokenizer"
   ]
  },
  {
   "cell_type": "code",
   "execution_count": 2,
   "id": "0b80fe20",
   "metadata": {},
   "outputs": [
    {
     "name": "stdout",
     "output_type": "stream",
     "text": [
      "==((====))==  Unsloth 2025.4.7: Fast Llama patching. Transformers: 4.51.3.\n",
      "   \\\\   /|    Tesla V100-SXM2-32GB. Num GPUs = 1. Max memory: 31.733 GB. Platform: Linux.\n",
      "O^O/ \\_/ \\    Torch: 2.7.0+cu126. CUDA: 7.0. CUDA Toolkit: 12.6. Triton: 3.3.0\n",
      "\\        /    Bfloat16 = FALSE. FA [Xformers = 0.0.30. FA2 = False]\n",
      " \"-____-\"     Free license: http://github.com/unslothai/unsloth\n",
      "Unsloth: Fast downloading is enabled - ignore downloading bars which are red colored!\n"
     ]
    }
   ],
   "source": [
    "model_name = \"meta-llama/Llama-3.2-1B-Instruct\"  # unsloth/Llama-3.2-1B-Instruct\n",
    "max_seq_length = 2048\n",
    "\n",
    "model, tokenizer = FastLanguageModel.from_pretrained(\n",
    "    model_name=model_name,\n",
    "    max_seq_length=max_seq_length,\n",
    "    load_in_8bit=False,\n",
    "    load_in_4bit=False,\n",
    "    # attn_implementation=\"flash_attention_2\",\n",
    "    \n",
    "    # use_flash_attention_2=True,  # Основной флаг\n",
    "    # fused_mlp=True,              # Оптимизация MLP\n",
    "    # fused_dense=True,            # Оптимизация dense слоев\n",
    "    device_map=\"auto\",\n",
    ")"
   ]
  },
  {
   "cell_type": "code",
   "execution_count": 3,
   "id": "092085d8",
   "metadata": {},
   "outputs": [
    {
     "name": "stderr",
     "output_type": "stream",
     "text": [
      "Unsloth 2025.4.7 patched 16 layers with 16 QKV layers, 16 O layers and 16 MLP layers.\n"
     ]
    },
    {
     "name": "stdout",
     "output_type": "stream",
     "text": [
      "trainable params: 11,272,192 || all params: 1,247,086,592 || trainable%: 0.9039\n",
      "None\n"
     ]
    }
   ],
   "source": [
    "model = FastLanguageModel.get_peft_model(\n",
    "    model,\n",
    "    r=16,\n",
    "    lora_alpha=16,\n",
    "    lora_dropout=0,\n",
    "    target_modules=[\"q_proj\", \"k_proj\", \"v_proj\", \"up_proj\", \"down_proj\", \"o_proj\", \"gate_proj\"],\n",
    "    use_rslora=False,\n",
    "    # use_gradient_checkpointing=\"unsloth\",\n",
    "    random_state=42,\n",
    "    loftq_config=None,\n",
    ")\n",
    "\n",
    "print(model.print_trainable_parameters())"
   ]
  },
  {
   "cell_type": "code",
   "execution_count": 4,
   "id": "cbf6061b",
   "metadata": {},
   "outputs": [],
   "source": [
    "import json\n",
    "from datasets import Dataset\n",
    "\n",
    "def read_jsonl(file_name):\n",
    "    with open(file_name, encoding=\"utf-8\") as r:\n",
    "        return [json.loads(line) for line in r]\n",
    "    \n",
    "data = read_jsonl(\"../Semyon/data/train/sft_d1_train.jsonl\")\n",
    "val_data = read_jsonl(\"../Semyon/data/val/sft_d1_val.jsonl\")\n",
    "dataset = Dataset.from_list(data)\n",
    "val_dataset = Dataset.from_list(val_data)"
   ]
  },
  {
   "cell_type": "code",
   "execution_count": 5,
   "id": "f8a20c65",
   "metadata": {},
   "outputs": [
    {
     "data": {
      "application/vnd.jupyter.widget-view+json": {
       "model_id": "7dbcd00e2c19447f8cf5c3ca9339df59",
       "version_major": 2,
       "version_minor": 0
      },
      "text/plain": [
       "Map:   0%|          | 0/34640 [00:00<?, ? examples/s]"
      ]
     },
     "metadata": {},
     "output_type": "display_data"
    },
    {
     "data": {
      "application/vnd.jupyter.widget-view+json": {
       "model_id": "05119219dca1483c9303e74730fa1b61",
       "version_major": 2,
       "version_minor": 0
      },
      "text/plain": [
       "Map:   0%|          | 0/1011 [00:00<?, ? examples/s]"
      ]
     },
     "metadata": {},
     "output_type": "display_data"
    }
   ],
   "source": [
    "custom_system_message = {\n",
    "    \"role\": \"system\", \n",
    "    \"content\": \"Ты — экспертная система Compressa RAG. Предоставляющая точные и релевантные ответы на вопросы.\"\n",
    "}\n",
    "\n",
    "def generate_conversation(examples):\n",
    "    conversations = []\n",
    "    for messages in examples[\"messages\"]:\n",
    "        formatted_messages = [custom_system_message] + [  # <- кастомный промпт\n",
    "            {\"role\": msg[\"role\"], \"content\": msg[\"content\"]}\n",
    "            for msg in messages\n",
    "        ]\n",
    "        conversations.append(formatted_messages)\n",
    "    return {\"conversations\": conversations}\n",
    "\n",
    "train = tokenizer.apply_chat_template(\n",
    "    dataset.map(generate_conversation, batched=True)[\"conversations\"],\n",
    "    tokenize=False,\n",
    ")\n",
    "\n",
    "val = tokenizer.apply_chat_template(\n",
    "    val_dataset.map(generate_conversation, batched=True)[\"conversations\"],\n",
    "    tokenize=False,\n",
    ")\n"
   ]
  },
  {
   "cell_type": "code",
   "execution_count": 6,
   "id": "05d43fe8",
   "metadata": {},
   "outputs": [
    {
     "name": "stdout",
     "output_type": "stream",
     "text": [
      "<|begin_of_text|><|start_header_id|>system<|end_header_id|>\n",
      "\n",
      "Cutting Knowledge Date: December 2023\n",
      "Today Date: 07 May 2025\n",
      "\n",
      "Ты — экспертная система Compressa RAG. Предоставляющая точные и релевантные ответы на вопросы.<|eot_id|><|start_header_id|>user<|end_header_id|>\n",
      "\n",
      "Read the following text about wearable fitness technology and answer the subsequent questions:      \"Wearable fitness technology includes devices such as fitness trackers, smartwatches, and heart rate monitors. These devices track various health metrics like steps taken, calories burned, and heart rate. Fitness trackers are usually worn on the wrist and provide users with real-time data on their physical activities. Smartwatches not only track fitness metrics but also offer additional functionalities like GPS navigation, notifications from your phone, and sometimes even the capability to make phone calls. Heart rate monitors, often used by athletes, provide accurate readings of the user's heart rate during different types of exercises.\"   a. Categorize the following devices: Fitbit, Apple Watch, Polar Hb. Identify the unique functionalities provided by smartwatches compared to other wearable fitness technologies.   c. Discuss a potential health application for each type of wearable fitness technology mentioned in the text.\n",
      "Answer on russian<|eot_id|><|start_header_id|>assistant<|end_header_id|>\n",
      "\n",
      "### Обсуждение текста о носимых фитнес-технологиях\n",
      "\n",
      "Прежде всего, давайте рассмотрим каждое устройство по отдельности и определим их категории:\n",
      "\n",
      "a. Категоризация устройств:\n",
      "- **Fitbit** - это бренд, который производит фитнес-трекеры, поэтому устройства Fitbit можно классифицировать как фитнес-трекеры.\n",
      "- **Apple Watch** - это умные часы, которые, помимо отслеживания фитнес-метрик, предлагают дополнительные функции, такие как GPS-навигация, уведомления с телефона и возможность совершать телефонные звонки.\n",
      "- **Polar Hb** - это, скорее всего, сердечный монитор (хотя точное название модели не указано), который используется для точного измерения частоты сердечных сокращений во время различных видов упражнений.\n",
      "\n",
      "b. Уникальные функции умных часов по сравнению с другими носимыми фитнес-технологиями:\n",
      "- GPS-навигация: позволяет отслеживать маршруты во время бега или велосипедных прогулок.\n",
      "- Уведомления с телефона: позволяет получать сообщения и уведомления прямо на часы, не доставая смартфон.\n",
      "- Возможность совершать телефонные звонки: умные часы могут функционировать как телефон, позволяя звонить или отвечать на звонки.\n",
      "\n",
      "c. Потенциальные применения для здоровья каждого типа носимой фитнес-технологии:\n",
      "- **Фитнес-трекеры**: могут использоваться для мониторинга ежедневной активности, что помогает пользователям увеличивать свою физическую активность и следить за сжиганием калорий.\n",
      "- **Умные часы**: могут использоваться для более широкого спектра здоровья и фитнес-целей, включая отслеживание сна, напоминания о движении и даже мониторинг уровня кислорода в крови или ЭКГ в некоторых моделях.\n",
      "- **Сердечные мониторы**: особенно полезны для спортсменов и людей, занимающихся кардиотренировками, поскольку они могут отслеживать частоту сердечных сокращений в реальном времени и помогать избегать перегрузок.<|eot_id|>\n"
     ]
    }
   ],
   "source": [
    "print(val[0])"
   ]
  },
  {
   "cell_type": "code",
   "execution_count": 6,
   "id": "b92e2254",
   "metadata": {},
   "outputs": [],
   "source": [
    "import pandas as pd\n",
    "from datasets import Dataset\n",
    "\n",
    "train_tmp = pd.Series(train)\n",
    "val_tmp = pd.Series(val)\n",
    "\n",
    "train_tmp.name = \"text\"\n",
    "val_tmp.name = \"text\"\n",
    "\n",
    "train_dataset = Dataset.from_pandas(pd.DataFrame(train_tmp))\n",
    "train_dataset = train_dataset.shuffle(seed = 3407)\n",
    "val_dataset = Dataset.from_pandas(pd.DataFrame(val_tmp))"
   ]
  },
  {
   "cell_type": "code",
   "execution_count": 8,
   "id": "7c55d271",
   "metadata": {},
   "outputs": [
    {
     "data": {
      "text/plain": [
       "20.0"
      ]
     },
     "execution_count": 8,
     "metadata": {},
     "output_type": "execute_result"
    }
   ],
   "source": [
    "34/1.7"
   ]
  },
  {
   "cell_type": "code",
   "execution_count": 7,
   "id": "9bdc86d2",
   "metadata": {},
   "outputs": [
    {
     "data": {
      "application/vnd.jupyter.widget-view+json": {
       "model_id": "fffbe57add08417e948f00f922de1dee",
       "version_major": 2,
       "version_minor": 0
      },
      "text/plain": [
       "Unsloth: Tokenizing [\"text\"] (num_proc=20):   0%|          | 0/34640 [00:00<?, ? examples/s]"
      ]
     },
     "metadata": {},
     "output_type": "display_data"
    },
    {
     "data": {
      "application/vnd.jupyter.widget-view+json": {
       "model_id": "7b6f2159d4f54be6967498a71bc62875",
       "version_major": 2,
       "version_minor": 0
      },
      "text/plain": [
       "Unsloth: Tokenizing [\"text\"] (num_proc=20):   0%|          | 0/1011 [00:00<?, ? examples/s]"
      ]
     },
     "metadata": {},
     "output_type": "display_data"
    }
   ],
   "source": [
    "from trl import SFTTrainer, SFTConfig\n",
    "trainer = SFTTrainer(\n",
    "    model = model,\n",
    "    tokenizer = tokenizer,\n",
    "    train_dataset = train_dataset,\n",
    "    eval_dataset = val_dataset,\n",
    "    packing = False,\n",
    "    args = SFTConfig(\n",
    "        dataset_text_field = \"text\",\n",
    "        per_device_train_batch_size = 12,\n",
    "        gradient_accumulation_steps = 2,\n",
    "        warmup_steps = 50,\n",
    "        num_train_epochs = 1,\n",
    "        learning_rate = 2e-5,\n",
    "        logging_steps = 10,\n",
    "        optim = \"adamw_8bit\",  # adamw_8bit\n",
    "        weight_decay = 0.01,\n",
    "        lr_scheduler_type = \"linear\",\n",
    "        seed = 3407,\n",
    "        report_to=\"wandb\",\n",
    "        output_dir=\"llama-v100-bs_12_2\",\n",
    "        eval_steps=50,\n",
    "        eval_strategy=\"steps\",\n",
    "        dataloader_num_workers=8\n",
    "    ),\n",
    ")"
   ]
  },
  {
   "cell_type": "code",
   "execution_count": 8,
   "id": "d023483b",
   "metadata": {},
   "outputs": [
    {
     "name": "stderr",
     "output_type": "stream",
     "text": [
      "==((====))==  Unsloth - 2x faster free finetuning | Num GPUs used = 1\n",
      "   \\\\   /|    Num examples = 34,640 | Num Epochs = 1 | Total steps = 1,443\n",
      "O^O/ \\_/ \\    Batch size per device = 12 | Gradient accumulation steps = 2\n",
      "\\        /    Data Parallel GPUs = 1 | Total batch size (12 x 2 x 1) = 24\n",
      " \"-____-\"     Trainable parameters = 11,272,192/1,247,086,592 (0.90% trained)\n",
      "\u001b[34m\u001b[1mwandb\u001b[0m: \u001b[33mWARNING\u001b[0m The `run_name` is currently set to the same value as `TrainingArguments.output_dir`. If this was not intended, please specify a different run name by setting the `TrainingArguments.run_name` parameter.\n",
      "\u001b[34m\u001b[1mwandb\u001b[0m: \u001b[32m\u001b[41mERROR\u001b[0m Failed to detect the name of this notebook. You can set it manually with the WANDB_NOTEBOOK_NAME environment variable to enable code saving.\n",
      "\u001b[34m\u001b[1mwandb\u001b[0m: Currently logged in as: \u001b[33mseba-vicin\u001b[0m (\u001b[33mseba-vicin-oxford\u001b[0m) to \u001b[32mhttps://api.wandb.ai\u001b[0m. Use \u001b[1m`wandb login --relogin`\u001b[0m to force relogin\n"
     ]
    },
    {
     "data": {
      "text/html": [
       "Tracking run with wandb version 0.19.10"
      ],
      "text/plain": [
       "<IPython.core.display.HTML object>"
      ]
     },
     "metadata": {},
     "output_type": "display_data"
    },
    {
     "data": {
      "text/html": [
       "Run data is saved locally in <code>/home/user/Alex/wandb/run-20250508_121826-j0xfqhb8</code>"
      ],
      "text/plain": [
       "<IPython.core.display.HTML object>"
      ]
     },
     "metadata": {},
     "output_type": "display_data"
    },
    {
     "data": {
      "text/html": [
       "Syncing run <strong><a href='https://wandb.ai/seba-vicin-oxford/huggingface/runs/j0xfqhb8' target=\"_blank\">llama-v100-bs_12_2</a></strong> to <a href='https://wandb.ai/seba-vicin-oxford/huggingface' target=\"_blank\">Weights & Biases</a> (<a href='https://wandb.me/developer-guide' target=\"_blank\">docs</a>)<br>"
      ],
      "text/plain": [
       "<IPython.core.display.HTML object>"
      ]
     },
     "metadata": {},
     "output_type": "display_data"
    },
    {
     "data": {
      "text/html": [
       " View project at <a href='https://wandb.ai/seba-vicin-oxford/huggingface' target=\"_blank\">https://wandb.ai/seba-vicin-oxford/huggingface</a>"
      ],
      "text/plain": [
       "<IPython.core.display.HTML object>"
      ]
     },
     "metadata": {},
     "output_type": "display_data"
    },
    {
     "data": {
      "text/html": [
       " View run at <a href='https://wandb.ai/seba-vicin-oxford/huggingface/runs/j0xfqhb8' target=\"_blank\">https://wandb.ai/seba-vicin-oxford/huggingface/runs/j0xfqhb8</a>"
      ],
      "text/plain": [
       "<IPython.core.display.HTML object>"
      ]
     },
     "metadata": {},
     "output_type": "display_data"
    },
    {
     "name": "stdout",
     "output_type": "stream",
     "text": [
      "Unsloth: Will smartly offload gradients to save VRAM!\n"
     ]
    },
    {
     "data": {
      "text/html": [
       "\n",
       "    <div>\n",
       "      \n",
       "      <progress value='1443' max='1443' style='width:300px; height:20px; vertical-align: middle;'></progress>\n",
       "      [1443/1443 3:39:40, Epoch 0/1]\n",
       "    </div>\n",
       "    <table border=\"1\" class=\"dataframe\">\n",
       "  <thead>\n",
       " <tr style=\"text-align: left;\">\n",
       "      <th>Step</th>\n",
       "      <th>Training Loss</th>\n",
       "      <th>Validation Loss</th>\n",
       "    </tr>\n",
       "  </thead>\n",
       "  <tbody>\n",
       "    <tr>\n",
       "      <td>50</td>\n",
       "      <td>1.937800</td>\n",
       "      <td>1.902725</td>\n",
       "    </tr>\n",
       "    <tr>\n",
       "      <td>100</td>\n",
       "      <td>1.676300</td>\n",
       "      <td>1.631617</td>\n",
       "    </tr>\n",
       "    <tr>\n",
       "      <td>150</td>\n",
       "      <td>1.655000</td>\n",
       "      <td>1.586840</td>\n",
       "    </tr>\n",
       "    <tr>\n",
       "      <td>200</td>\n",
       "      <td>1.597300</td>\n",
       "      <td>1.563779</td>\n",
       "    </tr>\n",
       "    <tr>\n",
       "      <td>250</td>\n",
       "      <td>1.594500</td>\n",
       "      <td>1.546911</td>\n",
       "    </tr>\n",
       "    <tr>\n",
       "      <td>300</td>\n",
       "      <td>1.510200</td>\n",
       "      <td>1.533495</td>\n",
       "    </tr>\n",
       "    <tr>\n",
       "      <td>350</td>\n",
       "      <td>1.537900</td>\n",
       "      <td>1.522028</td>\n",
       "    </tr>\n",
       "    <tr>\n",
       "      <td>400</td>\n",
       "      <td>1.582100</td>\n",
       "      <td>1.512389</td>\n",
       "    </tr>\n",
       "    <tr>\n",
       "      <td>450</td>\n",
       "      <td>1.558700</td>\n",
       "      <td>1.503936</td>\n",
       "    </tr>\n",
       "    <tr>\n",
       "      <td>500</td>\n",
       "      <td>1.512200</td>\n",
       "      <td>1.496387</td>\n",
       "    </tr>\n",
       "    <tr>\n",
       "      <td>550</td>\n",
       "      <td>1.529500</td>\n",
       "      <td>1.489628</td>\n",
       "    </tr>\n",
       "    <tr>\n",
       "      <td>600</td>\n",
       "      <td>1.468800</td>\n",
       "      <td>1.483085</td>\n",
       "    </tr>\n",
       "    <tr>\n",
       "      <td>650</td>\n",
       "      <td>1.531000</td>\n",
       "      <td>1.475158</td>\n",
       "    </tr>\n",
       "    <tr>\n",
       "      <td>700</td>\n",
       "      <td>1.444200</td>\n",
       "      <td>1.461545</td>\n",
       "    </tr>\n",
       "    <tr>\n",
       "      <td>750</td>\n",
       "      <td>1.476400</td>\n",
       "      <td>1.454852</td>\n",
       "    </tr>\n",
       "    <tr>\n",
       "      <td>800</td>\n",
       "      <td>1.441000</td>\n",
       "      <td>1.447483</td>\n",
       "    </tr>\n",
       "    <tr>\n",
       "      <td>850</td>\n",
       "      <td>1.450300</td>\n",
       "      <td>1.442070</td>\n",
       "    </tr>\n",
       "    <tr>\n",
       "      <td>900</td>\n",
       "      <td>1.481600</td>\n",
       "      <td>1.438760</td>\n",
       "    </tr>\n",
       "    <tr>\n",
       "      <td>950</td>\n",
       "      <td>1.441900</td>\n",
       "      <td>1.436202</td>\n",
       "    </tr>\n",
       "    <tr>\n",
       "      <td>1000</td>\n",
       "      <td>1.430400</td>\n",
       "      <td>1.434476</td>\n",
       "    </tr>\n",
       "    <tr>\n",
       "      <td>1050</td>\n",
       "      <td>1.465800</td>\n",
       "      <td>1.432609</td>\n",
       "    </tr>\n",
       "    <tr>\n",
       "      <td>1100</td>\n",
       "      <td>1.447700</td>\n",
       "      <td>1.431342</td>\n",
       "    </tr>\n",
       "    <tr>\n",
       "      <td>1150</td>\n",
       "      <td>1.440500</td>\n",
       "      <td>1.430231</td>\n",
       "    </tr>\n",
       "    <tr>\n",
       "      <td>1200</td>\n",
       "      <td>1.424300</td>\n",
       "      <td>1.429273</td>\n",
       "    </tr>\n",
       "    <tr>\n",
       "      <td>1250</td>\n",
       "      <td>1.440400</td>\n",
       "      <td>1.428450</td>\n",
       "    </tr>\n",
       "    <tr>\n",
       "      <td>1300</td>\n",
       "      <td>1.390800</td>\n",
       "      <td>1.427810</td>\n",
       "    </tr>\n",
       "    <tr>\n",
       "      <td>1350</td>\n",
       "      <td>1.421200</td>\n",
       "      <td>1.427426</td>\n",
       "    </tr>\n",
       "    <tr>\n",
       "      <td>1400</td>\n",
       "      <td>1.471200</td>\n",
       "      <td>1.427179</td>\n",
       "    </tr>\n",
       "  </tbody>\n",
       "</table><p>"
      ],
      "text/plain": [
       "<IPython.core.display.HTML object>"
      ]
     },
     "metadata": {},
     "output_type": "display_data"
    },
    {
     "name": "stderr",
     "output_type": "stream",
     "text": [
      "Unsloth: Not an error, but LlamaForCausalLM does not accept `num_items_in_batch`.\n",
      "Using gradient accumulation will be very slightly less accurate.\n",
      "Read more on gradient accumulation issues here: https://unsloth.ai/blog/gradient\n"
     ]
    }
   ],
   "source": [
    "trainer_stats = trainer.train()"
   ]
  },
  {
   "cell_type": "code",
   "execution_count": 9,
   "id": "f77e15e6",
   "metadata": {},
   "outputs": [],
   "source": [
    "torch.save(model.state_dict(), \"llama-v100-bs_12_2/model.pth\")"
   ]
  },
  {
   "cell_type": "code",
   "execution_count": 10,
   "id": "51d4f2b2",
   "metadata": {},
   "outputs": [],
   "source": [
    "model.save_pretrained(\"llama-v100-bs_12_2/pretrain_save\")"
   ]
  },
  {
   "cell_type": "code",
   "execution_count": null,
   "id": "a6a64fd1",
   "metadata": {},
   "outputs": [],
   "source": []
  },
  {
   "cell_type": "code",
   "execution_count": null,
   "id": "efe414d0",
   "metadata": {},
   "outputs": [],
   "source": []
  }
 ],
 "metadata": {
  "kernelspec": {
   "display_name": "Python 3",
   "language": "python",
   "name": "python3"
  },
  "language_info": {
   "codemirror_mode": {
    "name": "ipython",
    "version": 3
   },
   "file_extension": ".py",
   "mimetype": "text/x-python",
   "name": "python",
   "nbconvert_exporter": "python",
   "pygments_lexer": "ipython3",
   "version": "3.10.12"
  }
 },
 "nbformat": 4,
 "nbformat_minor": 5
}
