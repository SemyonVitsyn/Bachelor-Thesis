{
 "cells": [
  {
   "cell_type": "code",
   "execution_count": 22,
   "id": "b1f8da05",
   "metadata": {},
   "outputs": [],
   "source": [
    "import os\n",
    "import glob\n",
    "import numpy as np\n",
    "import faiss\n",
    "import torch\n",
    "import pandas as pd\n",
    "from torch import Tensor\n",
    "from tqdm import tqdm\n",
    "from transformers import AutoTokenizer, AutoModel\n",
    "from langchain.text_splitter import RecursiveCharacterTextSplitter\n",
    "\n",
    "FOLDER_PATH = \"../md_benchmark/benchmark/Руководства к РФ ПО\"\n",
    "BENCHMARCK_PATH = \"../benchmark/benchmark.csv\"\n",
    "RETRIEVER = \"intfloat/multilingual-e5-large\"\n",
    "DEVICE = torch.device(\"cuda\" if torch.cuda.is_available() else \"cpu\")"
   ]
  },
  {
   "cell_type": "code",
   "execution_count": 2,
   "id": "17ebf78f",
   "metadata": {},
   "outputs": [],
   "source": [
    "# !ls {FOLDER_PATH}"
   ]
  },
  {
   "cell_type": "code",
   "execution_count": null,
   "id": "e5a8e9b5",
   "metadata": {},
   "outputs": [],
   "source": [
    "def read_md_files(folder_path):\n",
    "    files = glob.glob(os.path.join(folder_path, \"*.md\"))\n",
    "    documents = []\n",
    "    for file_path in files:\n",
    "        with open(file_path, \"r\", encoding=\"utf-8\") as f:\n",
    "            doc_name = os.path.splitext(os.path.basename(file_path))[0]\n",
    "            documents.append((doc_name, f.read()))\n",
    "    return documents"
   ]
  },
  {
   "cell_type": "code",
   "execution_count": 4,
   "id": "71377fce",
   "metadata": {},
   "outputs": [
    {
     "data": {
      "text/plain": [
       "2"
      ]
     },
     "execution_count": 4,
     "metadata": {},
     "output_type": "execute_result"
    }
   ],
   "source": [
    "documents = read_md_files(FOLDER_PATH)\n",
    "len(documents)"
   ]
  },
  {
   "cell_type": "code",
   "execution_count": 5,
   "id": "6d3d7812",
   "metadata": {},
   "outputs": [],
   "source": [
    "def split_documents(documents):\n",
    "    tokenizer = AutoTokenizer.from_pretrained(RETRIEVER)\n",
    "    \n",
    "    def token_counter(text):\n",
    "        return len(tokenizer.encode(text, add_special_tokens=False))\n",
    "    \n",
    "    text_splitter = RecursiveCharacterTextSplitter(\n",
    "        chunk_size=300,\n",
    "        chunk_overlap=50,\n",
    "        length_function=token_counter,\n",
    "        separators=[\"\\n\\n\", \"\\n\", \".\"]\n",
    "    )\n",
    "    \n",
    "    chunks = []\n",
    "    for doc_name, content in documents:\n",
    "        for chunk in text_splitter.split_text(content):\n",
    "            chunks.append((doc_name, chunk))\n",
    "    return chunks"
   ]
  },
  {
   "cell_type": "code",
   "execution_count": 6,
   "id": "c65967ce",
   "metadata": {},
   "outputs": [
    {
     "name": "stderr",
     "output_type": "stream",
     "text": [
      "Token indices sequence length is longer than the specified maximum sequence length for this model (1207 > 512). Running this sequence through the model will result in indexing errors\n"
     ]
    },
    {
     "name": "stdout",
     "output_type": "stream",
     "text": [
      "Создано 715 чанков\n"
     ]
    }
   ],
   "source": [
    "chunks = split_documents(documents)\n",
    "print(f\"Создано {len(chunks)} чанков\")"
   ]
  },
  {
   "cell_type": "code",
   "execution_count": 7,
   "id": "78f28831",
   "metadata": {},
   "outputs": [
    {
     "name": "stdout",
     "output_type": "stream",
     "text": [
      "('1c', 'Раскрыть группу в списке можно одним из следующих способов:\\n\\n- \\uf0b7 дважды  щелкнуть  мышью  на  строке  списка  с  наименованием нужной группы;\\n- \\uf0b7 нажать левую кнопку мыши  на символе [+] в строке с наименованием нужной группы;\\n- \\uf0b7 установить курсор на строке с наименованием нужной группы и нажать клавиши Ctrl + Стрелка вниз ;\\n- \\uf0b7 установить курсор на строку с наименованием группы и нажать кнопку + на цифровой клавиатуре;\\n- \\uf0b7 установить курсор на строку с наименованием нужной группы и выбрать пункт Все действия - Перейти на уровень ниже .\\n\\nДля возврата на предыдущий уровень можно нажать клавиши Ctrl + Стрелка вверх ,  находясь в любой строке группы, или выбрать пункт Все действия - Перейти на уровень выше .\\n\\nРежим «Дерево» .  Если  в  качестве  режима  просмотра  выбран  режим Дерево , то элементы списка отображаются в виде дерева.\\n\\n<!-- image -->')\n"
     ]
    }
   ],
   "source": [
    "print(chunks[123])"
   ]
  },
  {
   "cell_type": "code",
   "execution_count": 8,
   "metadata": {},
   "outputs": [
    {
     "name": "stdout",
     "output_type": "stream",
     "text": [
      "('1c', 'Режим «Дерево» .  Если  в  качестве  режима  просмотра  выбран  режим Дерево , то элементы списка отображаются в виде дерева.\\n\\n<!-- image -->\\n\\nДля  удобства работы  дерево имеет возможность  раскрываться  и закрываться. Знак + (плюс) в узле ветви указывает, что ветвь можно раскрыть.  При  нажатии  левой  кнопки  мыши  на  этом  знаке  ветвь откроет для просмотра следующий уровень, а знак + (плюс) изменится на -(минус). Свернуть ветвь дерева можно нажатием мыши на знаке -(минус).\\n\\nЕсли дерево раскрыто, то для перехода к нужной группе используются клавиши Стрелка Вверх и Стрелка Вниз .\\n\\nДля одновременного раскрытия и перехода на группу нижнего уровня следует  использовать  сочетание  клавиш Ctrl + Стрелка  Вниз. Для перехода к родительской группе Ctrl + Стрелка Вверх .\\n\\nЧтобы свернуть узел дерева и все подчиненные, используются клавиши Shift + Alt + Num-. Чтобы свернуть все узлы дерева, используются  клавиши Ctrl + Shift + Alt + Num-. Чтобы  развернуть узел дерева и все подчиненные, используются клавиши Shift + Alt + Num+ . Чтобы развернуть все узлы дерева, используются клавиши Ctrl + Shift + Alt + Num+ .')\n"
     ]
    }
   ],
   "source": [
    "print(chunks[124])"
   ]
  },
  {
   "cell_type": "code",
   "execution_count": null,
   "id": "bd4ab8a9",
   "metadata": {},
   "outputs": [],
   "source": [
    "def average_pool(last_hidden_states: Tensor,\n",
    "                 attention_mask: Tensor) -> Tensor:\n",
    "    last_hidden = last_hidden_states.masked_fill(~attention_mask[..., None].bool(), 0.0)\n",
    "    return last_hidden.sum(dim=1) / attention_mask.sum(dim=1)[..., None]\n",
    "\n",
    "def create_embeddings(chunks, batch_size=8, is_queries=False):\n",
    "    tokenizer = AutoTokenizer.from_pretrained(RETRIEVER)\n",
    "    model = AutoModel.from_pretrained(RETRIEVER)\n",
    "    model.eval()\n",
    "\n",
    "    model.to(DEVICE)\n",
    "\n",
    "    embeddings = []\n",
    "\n",
    "    for i in tqdm(range(0, len(chunks), batch_size)):\n",
    "        batch = chunks[i:i+batch_size]\n",
    "\n",
    "        if is_queries:\n",
    "            prefixed_batch = [f\"{doc_name}: {text}\" for doc_name, text in batch]\n",
    "        else:\n",
    "            prefixed_batch = batch\n",
    "\n",
    "        inputs = tokenizer(\n",
    "            prefixed_batch,\n",
    "            padding=True,\n",
    "            truncation=True,\n",
    "            return_tensors=\"pt\",\n",
    "            max_length=512\n",
    "        )\n",
    "\n",
    "        inputs = {k: v.to(DEVICE) for k, v in inputs.items()}\n",
    "        with torch.no_grad():\n",
    "            outputs = model(**inputs)\n",
    "\n",
    "        batch_embeddings = average_pool(outputs.last_hidden_state, inputs['attention_mask'])\n",
    "        \n",
    "        batch_embeddings = torch.nn.functional.normalize(batch_embeddings, p=2, dim=1)\n",
    "        embeddings.append(batch_embeddings.cpu().numpy())\n",
    "    \n",
    "    return np.concatenate(embeddings, axis=0)"
   ]
  },
  {
   "cell_type": "code",
   "execution_count": 12,
   "id": "3bc55c2c",
   "metadata": {},
   "outputs": [
    {
     "name": "stderr",
     "output_type": "stream",
     "text": [
      "100%|██████████| 23/23 [00:11<00:00,  2.07it/s]\n"
     ]
    }
   ],
   "source": [
    "embeddings = create_embeddings(chunks, batch_size=32)\n"
   ]
  },
  {
   "cell_type": "code",
   "execution_count": 13,
   "id": "3180b8ab",
   "metadata": {},
   "outputs": [
    {
     "data": {
      "text/plain": [
       "(715, 1024)"
      ]
     },
     "execution_count": 13,
     "metadata": {},
     "output_type": "execute_result"
    }
   ],
   "source": [
    "embeddings.shape"
   ]
  },
  {
   "cell_type": "code",
   "execution_count": 16,
   "metadata": {},
   "outputs": [],
   "source": [
    "def create_faiss_index(embeddings):\n",
    "    folder_name = os.path.basename(FOLDER_PATH.rstrip(\"/\\\\\"))\n",
    "    index_path = f\"faiss_index_{folder_name}.index\"\n",
    "\n",
    "    dimension = embeddings.shape[1]\n",
    "    index = faiss.IndexFlatIP(dimension)\n",
    "    index.add(embeddings.astype(np.float32))\n",
    "    faiss.write_index(index, index_path)\n",
    "    return index"
   ]
  },
  {
   "cell_type": "code",
   "execution_count": 18,
   "id": "9ade28c2",
   "metadata": {},
   "outputs": [],
   "source": [
    "index = create_faiss_index(embeddings)"
   ]
  },
  {
   "cell_type": "code",
   "execution_count": 20,
   "id": "afc915bd",
   "metadata": {},
   "outputs": [],
   "source": [
    "torch.cuda.empty_cache()"
   ]
  },
  {
   "cell_type": "code",
   "execution_count": 33,
   "id": "80ae7cba",
   "metadata": {},
   "outputs": [],
   "source": [
    "def read_benchmark(set):\n",
    "    df = pd.read_csv(BENCHMARCK_PATH)\n",
    "    df = df[df[\"Сет документов\"] == set].reset_index(drop=True)\n",
    "    return df"
   ]
  },
  {
   "cell_type": "code",
   "execution_count": 34,
   "id": "a343214e",
   "metadata": {},
   "outputs": [],
   "source": [
    "df = read_benchmark(os.path.basename(FOLDER_PATH.rstrip(\"/\\\\\")))"
   ]
  },
  {
   "cell_type": "code",
   "execution_count": 35,
   "id": "3b12291a",
   "metadata": {},
   "outputs": [
    {
     "data": {
      "text/html": [
       "<div>\n",
       "<style scoped>\n",
       "    .dataframe tbody tr th:only-of-type {\n",
       "        vertical-align: middle;\n",
       "    }\n",
       "\n",
       "    .dataframe tbody tr th {\n",
       "        vertical-align: top;\n",
       "    }\n",
       "\n",
       "    .dataframe thead th {\n",
       "        text-align: right;\n",
       "    }\n",
       "</style>\n",
       "<table border=\"1\" class=\"dataframe\">\n",
       "  <thead>\n",
       "    <tr style=\"text-align: right;\">\n",
       "      <th></th>\n",
       "      <th>Домен документов</th>\n",
       "      <th>Сет документов</th>\n",
       "      <th>Название документа</th>\n",
       "      <th>Отрывок из документа</th>\n",
       "      <th>Тип вопроса</th>\n",
       "      <th>Вопрос</th>\n",
       "      <th>Ответ</th>\n",
       "    </tr>\n",
       "  </thead>\n",
       "  <tbody>\n",
       "    <tr>\n",
       "      <th>0</th>\n",
       "      <td>Техническая документация</td>\n",
       "      <td>Руководства к РФ ПО</td>\n",
       "      <td>1c.pdf</td>\n",
       "      <td>Функционирование системы «1С:Предприятие» дели...</td>\n",
       "      <td>Simple</td>\n",
       "      <td>Как делится функционирование системы «1С:Предп...</td>\n",
       "      <td>Функционирование системы «1С:Предприятие» дели...</td>\n",
       "    </tr>\n",
       "    <tr>\n",
       "      <th>1</th>\n",
       "      <td>Техническая документация</td>\n",
       "      <td>Руководства к РФ ПО</td>\n",
       "      <td>1c.pdf</td>\n",
       "      <td>Функционирование системы «1С:Предприятие» дели...</td>\n",
       "      <td>With errors</td>\n",
       "      <td>Как фукционерует системма «1С:Преприятие», на ...</td>\n",
       "      <td>Функционирование системы «1С:Предприятие» дели...</td>\n",
       "    </tr>\n",
       "    <tr>\n",
       "      <th>2</th>\n",
       "      <td>Техническая документация</td>\n",
       "      <td>Руководства к РФ ПО</td>\n",
       "      <td>1c.pdf</td>\n",
       "      <td>Функционирование системы «1С:Предприятие» дели...</td>\n",
       "      <td>Trash</td>\n",
       "      <td>Привет! Мне надо понять, как именно работает э...</td>\n",
       "      <td>Функционирование системы «1С:Предприятие» дели...</td>\n",
       "    </tr>\n",
       "    <tr>\n",
       "      <th>3</th>\n",
       "      <td>Техническая документация</td>\n",
       "      <td>Руководства к РФ ПО</td>\n",
       "      <td>1c.pdf</td>\n",
       "      <td>Функционирование системы «1С:Предприятие» дели...</td>\n",
       "      <td>Reformulation</td>\n",
       "      <td>Какие ключевые стадии определяют процесс работ...</td>\n",
       "      <td>Функционирование системы «1С:Предприятие» дели...</td>\n",
       "    </tr>\n",
       "    <tr>\n",
       "      <th>4</th>\n",
       "      <td>Техническая документация</td>\n",
       "      <td>Руководства к РФ ПО</td>\n",
       "      <td>1c.pdf</td>\n",
       "      <td>Функционирование системы «1С:Предприятие» дели...</td>\n",
       "      <td>Incorrect by design</td>\n",
       "      <td>В «1С:Предприятие» пользователь сначала работа...</td>\n",
       "      <td>Нет, наоборот. Функционирование системы «1С:Пр...</td>\n",
       "    </tr>\n",
       "    <tr>\n",
       "      <th>...</th>\n",
       "      <td>...</td>\n",
       "      <td>...</td>\n",
       "      <td>...</td>\n",
       "      <td>...</td>\n",
       "      <td>...</td>\n",
       "      <td>...</td>\n",
       "      <td>...</td>\n",
       "    </tr>\n",
       "    <tr>\n",
       "      <th>72</th>\n",
       "      <td>Техническая документация</td>\n",
       "      <td>Руководства к РФ ПО</td>\n",
       "      <td>1c.pdf</td>\n",
       "      <td>Если один и тот же объект пытаются отредактиро...</td>\n",
       "      <td>Logical thinking</td>\n",
       "      <td>Можно ли провести документ, если он заблокиров...</td>\n",
       "      <td>Нет. Если документ заблокирован другим пользов...</td>\n",
       "    </tr>\n",
       "    <tr>\n",
       "      <th>73</th>\n",
       "      <td>Техническая документация</td>\n",
       "      <td>Руководства к РФ ПО</td>\n",
       "      <td>1c.pdf</td>\n",
       "      <td>Установленные значения настроек сохраняются ме...</td>\n",
       "      <td>Logical thinking</td>\n",
       "      <td>Как сохранить настройки отчета, чтобы использо...</td>\n",
       "      <td>Настройки отчета сохраняются через меню Все де...</td>\n",
       "    </tr>\n",
       "    <tr>\n",
       "      <th>74</th>\n",
       "      <td>Техническая документация</td>\n",
       "      <td>Руководства к РФ ПО</td>\n",
       "      <td>mysql.pdf</td>\n",
       "      <td>При первичном запуске, необходимо ввести парол...</td>\n",
       "      <td>Logical thinking</td>\n",
       "      <td>Как изменить пароль главного администратора си...</td>\n",
       "      <td>Пароль главного администратора изменяется чере...</td>\n",
       "    </tr>\n",
       "    <tr>\n",
       "      <th>75</th>\n",
       "      <td>Техническая документация</td>\n",
       "      <td>Руководства к РФ ПО</td>\n",
       "      <td>mysql.pdf</td>\n",
       "      <td>Единовременное назначение пользователю только ...</td>\n",
       "      <td>Logical thinking</td>\n",
       "      <td>Можно ли назначить один прибор нескольким поль...</td>\n",
       "      <td>Нет. Программа позволяет назначить только один...</td>\n",
       "    </tr>\n",
       "    <tr>\n",
       "      <th>76</th>\n",
       "      <td>Техническая документация</td>\n",
       "      <td>Руководства к РФ ПО</td>\n",
       "      <td>mysql.pdf</td>\n",
       "      <td>Приборы типов РМ1603 и PМ1604 являются прибора...</td>\n",
       "      <td>Logical thinking</td>\n",
       "      <td>Можно ли использовать прибор PM1604 в программ...</td>\n",
       "      <td>Да, прибор PM1604 поддерживается. При регистра...</td>\n",
       "    </tr>\n",
       "  </tbody>\n",
       "</table>\n",
       "<p>77 rows × 7 columns</p>\n",
       "</div>"
      ],
      "text/plain": [
       "            Домен документов       Сет документов Название документа  \\\n",
       "0   Техническая документация  Руководства к РФ ПО             1c.pdf   \n",
       "1   Техническая документация  Руководства к РФ ПО             1c.pdf   \n",
       "2   Техническая документация  Руководства к РФ ПО             1c.pdf   \n",
       "3   Техническая документация  Руководства к РФ ПО             1c.pdf   \n",
       "4   Техническая документация  Руководства к РФ ПО             1c.pdf   \n",
       "..                       ...                  ...                ...   \n",
       "72  Техническая документация  Руководства к РФ ПО             1c.pdf   \n",
       "73  Техническая документация  Руководства к РФ ПО             1c.pdf   \n",
       "74  Техническая документация  Руководства к РФ ПО          mysql.pdf   \n",
       "75  Техническая документация  Руководства к РФ ПО          mysql.pdf   \n",
       "76  Техническая документация  Руководства к РФ ПО          mysql.pdf   \n",
       "\n",
       "                                 Отрывок из документа          Тип вопроса  \\\n",
       "0   Функционирование системы «1С:Предприятие» дели...               Simple   \n",
       "1   Функционирование системы «1С:Предприятие» дели...          With errors   \n",
       "2   Функционирование системы «1С:Предприятие» дели...                Trash   \n",
       "3   Функционирование системы «1С:Предприятие» дели...        Reformulation   \n",
       "4   Функционирование системы «1С:Предприятие» дели...  Incorrect by design   \n",
       "..                                                ...                  ...   \n",
       "72  Если один и тот же объект пытаются отредактиро...     Logical thinking   \n",
       "73  Установленные значения настроек сохраняются ме...     Logical thinking   \n",
       "74  При первичном запуске, необходимо ввести парол...     Logical thinking   \n",
       "75  Единовременное назначение пользователю только ...     Logical thinking   \n",
       "76  Приборы типов РМ1603 и PМ1604 являются прибора...     Logical thinking   \n",
       "\n",
       "                                               Вопрос  \\\n",
       "0   Как делится функционирование системы «1С:Предп...   \n",
       "1   Как фукционерует системма «1С:Преприятие», на ...   \n",
       "2   Привет! Мне надо понять, как именно работает э...   \n",
       "3   Какие ключевые стадии определяют процесс работ...   \n",
       "4   В «1С:Предприятие» пользователь сначала работа...   \n",
       "..                                                ...   \n",
       "72  Можно ли провести документ, если он заблокиров...   \n",
       "73  Как сохранить настройки отчета, чтобы использо...   \n",
       "74  Как изменить пароль главного администратора си...   \n",
       "75  Можно ли назначить один прибор нескольким поль...   \n",
       "76  Можно ли использовать прибор PM1604 в программ...   \n",
       "\n",
       "                                                Ответ  \n",
       "0   Функционирование системы «1С:Предприятие» дели...  \n",
       "1   Функционирование системы «1С:Предприятие» дели...  \n",
       "2   Функционирование системы «1С:Предприятие» дели...  \n",
       "3   Функционирование системы «1С:Предприятие» дели...  \n",
       "4   Нет, наоборот. Функционирование системы «1С:Пр...  \n",
       "..                                                ...  \n",
       "72  Нет. Если документ заблокирован другим пользов...  \n",
       "73  Настройки отчета сохраняются через меню Все де...  \n",
       "74  Пароль главного администратора изменяется чере...  \n",
       "75  Нет. Программа позволяет назначить только один...  \n",
       "76  Да, прибор PM1604 поддерживается. При регистра...  \n",
       "\n",
       "[77 rows x 7 columns]"
      ]
     },
     "execution_count": 35,
     "metadata": {},
     "output_type": "execute_result"
    }
   ],
   "source": [
    "df"
   ]
  },
  {
   "cell_type": "code",
   "execution_count": null,
   "id": "6e5105be",
   "metadata": {},
   "outputs": [],
   "source": [
    "def search(queries, k = 5):\n",
    "    query_embeddings = create_embeddings(queries, is_queries=True)\n",
    "    scores, indices = index.search(query_embeddings.astype(np.float32), k)\n",
    "    \n",
    "    results = []\n",
    "    for query, query_scores, query_indices in zip(queries, scores, indices):\n",
    "        result = {\n",
    "            \"query\": query,\n",
    "            \"results\": [\n",
    "                {\"index\": int(idx), \"score\": float(score)}\n",
    "                for idx, score in zip(query_indices, query_scores)\n",
    "            ]\n",
    "        }\n",
    "        results.append(result)\n",
    "    return results"
   ]
  },
  {
   "cell_type": "code",
   "execution_count": 40,
   "id": "2256f572",
   "metadata": {},
   "outputs": [
    {
     "name": "stderr",
     "output_type": "stream",
     "text": [
      "  0%|          | 0/10 [00:00<?, ?it/s]\n"
     ]
    },
    {
     "ename": "ValueError",
     "evalue": "too many values to unpack (expected 2)",
     "output_type": "error",
     "traceback": [
      "\u001b[0;31m---------------------------------------------------------------------------\u001b[0m",
      "\u001b[0;31mValueError\u001b[0m                                Traceback (most recent call last)",
      "\u001b[0;32m/tmp/ipykernel_8561/3065545534.py\u001b[0m in \u001b[0;36m<module>\u001b[0;34m\u001b[0m\n\u001b[0;32m----> 1\u001b[0;31m \u001b[0mresults\u001b[0m \u001b[0;34m=\u001b[0m \u001b[0msearch\u001b[0m\u001b[0;34m(\u001b[0m\u001b[0mdf\u001b[0m\u001b[0;34m[\u001b[0m\u001b[0;34m'Вопрос'\u001b[0m\u001b[0;34m]\u001b[0m\u001b[0;34m.\u001b[0m\u001b[0mtolist\u001b[0m\u001b[0;34m(\u001b[0m\u001b[0;34m)\u001b[0m\u001b[0;34m)\u001b[0m\u001b[0;34m\u001b[0m\u001b[0;34m\u001b[0m\u001b[0m\n\u001b[0m",
      "\u001b[0;32m/tmp/ipykernel_8561/1386722947.py\u001b[0m in \u001b[0;36msearch\u001b[0;34m(queries, k)\u001b[0m\n\u001b[1;32m      1\u001b[0m \u001b[0;32mdef\u001b[0m \u001b[0msearch\u001b[0m\u001b[0;34m(\u001b[0m\u001b[0mqueries\u001b[0m\u001b[0;34m,\u001b[0m \u001b[0mk\u001b[0m \u001b[0;34m=\u001b[0m \u001b[0;36m5\u001b[0m\u001b[0;34m)\u001b[0m\u001b[0;34m:\u001b[0m\u001b[0;34m\u001b[0m\u001b[0;34m\u001b[0m\u001b[0m\n\u001b[0;32m----> 2\u001b[0;31m     \u001b[0mquery_embeddings\u001b[0m \u001b[0;34m=\u001b[0m \u001b[0mcreate_embeddings\u001b[0m\u001b[0;34m(\u001b[0m\u001b[0mqueries\u001b[0m\u001b[0;34m)\u001b[0m\u001b[0;34m\u001b[0m\u001b[0;34m\u001b[0m\u001b[0m\n\u001b[0m\u001b[1;32m      3\u001b[0m     \u001b[0mscores\u001b[0m\u001b[0;34m,\u001b[0m \u001b[0mindices\u001b[0m \u001b[0;34m=\u001b[0m \u001b[0mindex\u001b[0m\u001b[0;34m.\u001b[0m\u001b[0msearch\u001b[0m\u001b[0;34m(\u001b[0m\u001b[0mquery_embeddings\u001b[0m\u001b[0;34m.\u001b[0m\u001b[0mastype\u001b[0m\u001b[0;34m(\u001b[0m\u001b[0mnp\u001b[0m\u001b[0;34m.\u001b[0m\u001b[0mfloat32\u001b[0m\u001b[0;34m)\u001b[0m\u001b[0;34m,\u001b[0m \u001b[0mk\u001b[0m\u001b[0;34m)\u001b[0m\u001b[0;34m\u001b[0m\u001b[0;34m\u001b[0m\u001b[0m\n\u001b[1;32m      4\u001b[0m \u001b[0;34m\u001b[0m\u001b[0m\n\u001b[1;32m      5\u001b[0m     \u001b[0mresults\u001b[0m \u001b[0;34m=\u001b[0m \u001b[0;34m[\u001b[0m\u001b[0;34m]\u001b[0m\u001b[0;34m\u001b[0m\u001b[0;34m\u001b[0m\u001b[0m\n",
      "\u001b[0;32m/tmp/ipykernel_8561/1187924294.py\u001b[0m in \u001b[0;36mcreate_embeddings\u001b[0;34m(chunks, batch_size)\u001b[0m\n\u001b[1;32m     16\u001b[0m         \u001b[0mbatch\u001b[0m \u001b[0;34m=\u001b[0m \u001b[0mchunks\u001b[0m\u001b[0;34m[\u001b[0m\u001b[0mi\u001b[0m\u001b[0;34m:\u001b[0m\u001b[0mi\u001b[0m\u001b[0;34m+\u001b[0m\u001b[0mbatch_size\u001b[0m\u001b[0;34m]\u001b[0m\u001b[0;34m\u001b[0m\u001b[0;34m\u001b[0m\u001b[0m\n\u001b[1;32m     17\u001b[0m \u001b[0;34m\u001b[0m\u001b[0m\n\u001b[0;32m---> 18\u001b[0;31m         \u001b[0mprefixed_batch\u001b[0m \u001b[0;34m=\u001b[0m \u001b[0;34m[\u001b[0m\u001b[0;34mf\"{doc_name}: {text}\"\u001b[0m \u001b[0;32mfor\u001b[0m \u001b[0mdoc_name\u001b[0m\u001b[0;34m,\u001b[0m \u001b[0mtext\u001b[0m \u001b[0;32min\u001b[0m \u001b[0mbatch\u001b[0m\u001b[0;34m]\u001b[0m\u001b[0;34m\u001b[0m\u001b[0;34m\u001b[0m\u001b[0m\n\u001b[0m\u001b[1;32m     19\u001b[0m \u001b[0;34m\u001b[0m\u001b[0m\n\u001b[1;32m     20\u001b[0m         inputs = tokenizer(\n",
      "\u001b[0;32m/tmp/ipykernel_8561/1187924294.py\u001b[0m in \u001b[0;36m<listcomp>\u001b[0;34m(.0)\u001b[0m\n\u001b[1;32m     16\u001b[0m         \u001b[0mbatch\u001b[0m \u001b[0;34m=\u001b[0m \u001b[0mchunks\u001b[0m\u001b[0;34m[\u001b[0m\u001b[0mi\u001b[0m\u001b[0;34m:\u001b[0m\u001b[0mi\u001b[0m\u001b[0;34m+\u001b[0m\u001b[0mbatch_size\u001b[0m\u001b[0;34m]\u001b[0m\u001b[0;34m\u001b[0m\u001b[0;34m\u001b[0m\u001b[0m\n\u001b[1;32m     17\u001b[0m \u001b[0;34m\u001b[0m\u001b[0m\n\u001b[0;32m---> 18\u001b[0;31m         \u001b[0mprefixed_batch\u001b[0m \u001b[0;34m=\u001b[0m \u001b[0;34m[\u001b[0m\u001b[0;34mf\"{doc_name}: {text}\"\u001b[0m \u001b[0;32mfor\u001b[0m \u001b[0mdoc_name\u001b[0m\u001b[0;34m,\u001b[0m \u001b[0mtext\u001b[0m \u001b[0;32min\u001b[0m \u001b[0mbatch\u001b[0m\u001b[0;34m]\u001b[0m\u001b[0;34m\u001b[0m\u001b[0;34m\u001b[0m\u001b[0m\n\u001b[0m\u001b[1;32m     19\u001b[0m \u001b[0;34m\u001b[0m\u001b[0m\n\u001b[1;32m     20\u001b[0m         inputs = tokenizer(\n",
      "\u001b[0;31mValueError\u001b[0m: too many values to unpack (expected 2)"
     ]
    }
   ],
   "source": [
    "results = search(df['Вопрос'].tolist())"
   ]
  },
  {
   "cell_type": "code",
   "execution_count": null,
   "id": "f558d27d",
   "metadata": {},
   "outputs": [],
   "source": []
  },
  {
   "cell_type": "code",
   "execution_count": null,
   "metadata": {},
   "outputs": [],
   "source": [
    "\n",
    "    \n",
    "    retriever = RetrieverSystem()\n",
    "    retriever.build_index(df)\n",
    "    \n",
    "    \n",
    "    with open(output_json, 'w', encoding='utf-8') as f:\n",
    "        json.dump(results, f, ensure_ascii=False, indent=2)"
   ]
  },
  {
   "cell_type": "code",
   "execution_count": null,
   "id": "1361e17b",
   "metadata": {},
   "outputs": [],
   "source": []
  },
  {
   "cell_type": "code",
   "execution_count": null,
   "id": "3470a341",
   "metadata": {},
   "outputs": [],
   "source": []
  },
  {
   "cell_type": "code",
   "execution_count": null,
   "id": "360ac2ce",
   "metadata": {},
   "outputs": [],
   "source": []
  },
  {
   "cell_type": "code",
   "execution_count": null,
   "metadata": {},
   "outputs": [],
   "source": []
  }
 ],
 "metadata": {
  "kernelspec": {
   "display_name": "Python 3",
   "language": "python",
   "name": "python3"
  },
  "language_info": {
   "codemirror_mode": {
    "name": "ipython",
    "version": 3
   },
   "file_extension": ".py",
   "mimetype": "text/x-python",
   "name": "python",
   "nbconvert_exporter": "python",
   "pygments_lexer": "ipython3",
   "version": "3.10.12"
  }
 },
 "nbformat": 4,
 "nbformat_minor": 5
}
